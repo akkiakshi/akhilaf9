{
  "cells": [
    {
      "cell_type": "markdown",
      "metadata": {
        "id": "view-in-github",
        "colab_type": "text"
      },
      "source": [
        "<a href=\"https://colab.research.google.com/github/akkiakshi/akhilaf9/blob/main/assingments/100_Numpy_exercises.ipynb\" target=\"_parent\"><img src=\"https://colab.research.google.com/assets/colab-badge.svg\" alt=\"Open In Colab\"/></a>"
      ]
    },
    {
      "cell_type": "markdown",
      "id": "6293cc50",
      "metadata": {
        "id": "6293cc50"
      },
      "source": [
        "# 100 numpy exercises\n",
        "\n",
        "This is a collection of exercises that have been collected in the numpy mailing list, on stack overflow\n",
        "and in the numpy documentation. The goal of this collection is to offer a quick reference for both old\n",
        "and new users but also to provide a set of exercises for those who teach.\n",
        "\n",
        "\n",
        "If you find an error or think you've a better way to solve some of them, feel\n",
        "free to open an issue at <https://github.com/rougier/numpy-100>."
      ]
    },
    {
      "cell_type": "markdown",
      "id": "a167c052",
      "metadata": {
        "id": "a167c052"
      },
      "source": [
        "File automatically generated. See the documentation to update questions/answers/hints programmatically."
      ]
    },
    {
      "cell_type": "markdown",
      "id": "57fc0ee5",
      "metadata": {
        "id": "57fc0ee5"
      },
      "source": [
        "Run the `initialize.py` module, then for each question you can query the\n",
        "answer or an hint with `hint(n)` or `answer(n)` for `n` question number."
      ]
    },
    {
      "cell_type": "code",
      "execution_count": null,
      "id": "3d46fba2",
      "metadata": {
        "id": "3d46fba2"
      },
      "outputs": [],
      "source": [
        "%run initialise.py"
      ]
    },
    {
      "cell_type": "markdown",
      "id": "3c1222ff",
      "metadata": {
        "id": "3c1222ff"
      },
      "source": [
        "#### 1. Import the numpy package under the name `np` (★☆☆)"
      ]
    },
    {
      "cell_type": "code",
      "execution_count": 2,
      "id": "f52e6a0b",
      "metadata": {
        "id": "f52e6a0b"
      },
      "outputs": [],
      "source": [
        "import numpy as np\n"
      ]
    },
    {
      "cell_type": "markdown",
      "id": "9d9f4753",
      "metadata": {
        "id": "9d9f4753"
      },
      "source": [
        "#### 2. Print the numpy version and the configuration (★☆☆)"
      ]
    },
    {
      "cell_type": "code",
      "execution_count": 3,
      "id": "b7fa5fa1",
      "metadata": {
        "id": "b7fa5fa1",
        "outputId": "d3bc683c-14b8-4315-af75-cf33d92b6e36",
        "colab": {
          "base_uri": "https://localhost:8080/"
        }
      },
      "outputs": [
        {
          "output_type": "stream",
          "name": "stdout",
          "text": [
            "1.26.4\n",
            "Build Dependencies:\n",
            "  blas:\n",
            "    detection method: pkgconfig\n",
            "    found: true\n",
            "    include directory: /usr/local/include\n",
            "    lib directory: /usr/local/lib\n",
            "    name: openblas64\n",
            "    openblas configuration: USE_64BITINT=1 DYNAMIC_ARCH=1 DYNAMIC_OLDER= NO_CBLAS=\n",
            "      NO_LAPACK= NO_LAPACKE= NO_AFFINITY=1 USE_OPENMP= HASWELL MAX_THREADS=2\n",
            "    pc file directory: /usr/local/lib/pkgconfig\n",
            "    version: 0.3.23.dev\n",
            "  lapack:\n",
            "    detection method: internal\n",
            "    found: true\n",
            "    include directory: unknown\n",
            "    lib directory: unknown\n",
            "    name: dep139863411681952\n",
            "    openblas configuration: unknown\n",
            "    pc file directory: unknown\n",
            "    version: 1.26.4\n",
            "Compilers:\n",
            "  c:\n",
            "    args: -fno-strict-aliasing\n",
            "    commands: cc\n",
            "    linker: ld.bfd\n",
            "    linker args: -Wl,--strip-debug, -fno-strict-aliasing\n",
            "    name: gcc\n",
            "    version: 10.2.1\n",
            "  c++:\n",
            "    commands: c++\n",
            "    linker: ld.bfd\n",
            "    linker args: -Wl,--strip-debug\n",
            "    name: gcc\n",
            "    version: 10.2.1\n",
            "  cython:\n",
            "    commands: cython\n",
            "    linker: cython\n",
            "    name: cython\n",
            "    version: 3.0.8\n",
            "Machine Information:\n",
            "  build:\n",
            "    cpu: x86_64\n",
            "    endian: little\n",
            "    family: x86_64\n",
            "    system: linux\n",
            "  host:\n",
            "    cpu: x86_64\n",
            "    endian: little\n",
            "    family: x86_64\n",
            "    system: linux\n",
            "Python Information:\n",
            "  path: /opt/python/cp310-cp310/bin/python\n",
            "  version: '3.10'\n",
            "SIMD Extensions:\n",
            "  baseline:\n",
            "  - SSE\n",
            "  - SSE2\n",
            "  - SSE3\n",
            "  found:\n",
            "  - SSSE3\n",
            "  - SSE41\n",
            "  - POPCNT\n",
            "  - SSE42\n",
            "  - AVX\n",
            "  - F16C\n",
            "  - FMA3\n",
            "  - AVX2\n",
            "  not found:\n",
            "  - AVX512F\n",
            "  - AVX512CD\n",
            "  - AVX512_KNL\n",
            "  - AVX512_KNM\n",
            "  - AVX512_SKX\n",
            "  - AVX512_CLX\n",
            "  - AVX512_CNL\n",
            "  - AVX512_ICL\n",
            "\n",
            "None\n"
          ]
        }
      ],
      "source": [
        "import numpy as np\n",
        "print(np.__version__)\n",
        "print(np.show_config())"
      ]
    },
    {
      "cell_type": "markdown",
      "id": "3e4c23c6",
      "metadata": {
        "id": "3e4c23c6"
      },
      "source": [
        "#### 3. Create a null vector of size 10 (★☆☆)"
      ]
    },
    {
      "cell_type": "code",
      "execution_count": 4,
      "id": "083c5c46",
      "metadata": {
        "id": "083c5c46",
        "outputId": "e9360e77-b7d7-4962-82cd-f1a13eb709a3",
        "colab": {
          "base_uri": "https://localhost:8080/"
        }
      },
      "outputs": [
        {
          "output_type": "stream",
          "name": "stdout",
          "text": [
            "[0. 0. 0. 0. 0. 0. 0. 0. 0. 0.]\n"
          ]
        }
      ],
      "source": [
        "import numpy as np\n",
        "x=np.zeros(10)\n",
        "print(x)"
      ]
    },
    {
      "cell_type": "markdown",
      "id": "c38bbe82",
      "metadata": {
        "id": "c38bbe82"
      },
      "source": [
        "#### 4. How to find the memory size of any array (★☆☆)"
      ]
    },
    {
      "cell_type": "code",
      "execution_count": 5,
      "id": "02b04021",
      "metadata": {
        "id": "02b04021",
        "outputId": "7ece3e90-8ae3-4582-cb2d-9e5d86f50261",
        "colab": {
          "base_uri": "https://localhost:8080/"
        }
      },
      "outputs": [
        {
          "output_type": "stream",
          "name": "stdout",
          "text": [
            "Size of the array: 3\n",
            "Memory size of one array element in bytes: 8\n",
            "Memory size of numpy array in bytes: 24\n"
          ]
        }
      ],
      "source": [
        "import numpy as np\n",
        "x=np.array([100,20,34])\n",
        "print(\"Size of the array:\",x.size)\n",
        "print(\"Memory size of one array element in bytes:\",x.itemsize)\n",
        "print(\"Memory size of numpy array in bytes:\",x.size*x.itemsize)"
      ]
    },
    {
      "cell_type": "markdown",
      "id": "67f893d4",
      "metadata": {
        "id": "67f893d4"
      },
      "source": [
        "#### 5. How to get the documentation of the numpy add function from the command line? (★☆☆)"
      ]
    },
    {
      "cell_type": "code",
      "execution_count": 6,
      "id": "40e6b70d",
      "metadata": {
        "id": "40e6b70d",
        "outputId": "c53d6ca9-b27b-4700-fd61-345fb873e37a",
        "colab": {
          "base_uri": "https://localhost:8080/"
        }
      },
      "outputs": [
        {
          "output_type": "stream",
          "name": "stdout",
          "text": [
            "Help on ufunc:\n",
            "\n",
            "add = <ufunc 'add'>\n",
            "    add(x1, x2, /, out=None, *, where=True, casting='same_kind', order='K', dtype=None, subok=True[, signature, extobj])\n",
            "    \n",
            "    Add arguments element-wise.\n",
            "    \n",
            "    Parameters\n",
            "    ----------\n",
            "    x1, x2 : array_like\n",
            "        The arrays to be added.\n",
            "        If ``x1.shape != x2.shape``, they must be broadcastable to a common\n",
            "        shape (which becomes the shape of the output).\n",
            "    out : ndarray, None, or tuple of ndarray and None, optional\n",
            "        A location into which the result is stored. If provided, it must have\n",
            "        a shape that the inputs broadcast to. If not provided or None,\n",
            "        a freshly-allocated array is returned. A tuple (possible only as a\n",
            "        keyword argument) must have length equal to the number of outputs.\n",
            "    where : array_like, optional\n",
            "        This condition is broadcast over the input. At locations where the\n",
            "        condition is True, the `out` array will be set to the ufunc result.\n",
            "        Elsewhere, the `out` array will retain its original value.\n",
            "        Note that if an uninitialized `out` array is created via the default\n",
            "        ``out=None``, locations within it where the condition is False will\n",
            "        remain uninitialized.\n",
            "    **kwargs\n",
            "        For other keyword-only arguments, see the\n",
            "        :ref:`ufunc docs <ufuncs.kwargs>`.\n",
            "    \n",
            "    Returns\n",
            "    -------\n",
            "    add : ndarray or scalar\n",
            "        The sum of `x1` and `x2`, element-wise.\n",
            "        This is a scalar if both `x1` and `x2` are scalars.\n",
            "    \n",
            "    Notes\n",
            "    -----\n",
            "    Equivalent to `x1` + `x2` in terms of array broadcasting.\n",
            "    \n",
            "    Examples\n",
            "    --------\n",
            "    >>> np.add(1.0, 4.0)\n",
            "    5.0\n",
            "    >>> x1 = np.arange(9.0).reshape((3, 3))\n",
            "    >>> x2 = np.arange(3.0)\n",
            "    >>> np.add(x1, x2)\n",
            "    array([[  0.,   2.,   4.],\n",
            "           [  3.,   5.,   7.],\n",
            "           [  6.,   8.,  10.]])\n",
            "    \n",
            "    The ``+`` operator can be used as a shorthand for ``np.add`` on ndarrays.\n",
            "    \n",
            "    >>> x1 = np.arange(9.0).reshape((3, 3))\n",
            "    >>> x2 = np.arange(3.0)\n",
            "    >>> x1 + x2\n",
            "    array([[ 0.,  2.,  4.],\n",
            "           [ 3.,  5.,  7.],\n",
            "           [ 6.,  8., 10.]])\n",
            "\n"
          ]
        }
      ],
      "source": [
        "import numpy as np\n",
        "help(np.add)\n",
        ""
      ]
    },
    {
      "cell_type": "markdown",
      "id": "e0c739c6",
      "metadata": {
        "id": "e0c739c6"
      },
      "source": [
        "#### 6. Create a null vector of size 10 but the fifth value which is 1 (★☆☆)"
      ]
    },
    {
      "cell_type": "code",
      "execution_count": 8,
      "id": "bcceacf7",
      "metadata": {
        "id": "bcceacf7",
        "outputId": "5d89b1c7-aac5-45b8-cac5-ea61ae7ca6c5",
        "colab": {
          "base_uri": "https://localhost:8080/"
        }
      },
      "outputs": [
        {
          "output_type": "stream",
          "name": "stdout",
          "text": [
            "[0 0 0 0 0 1 0 0 0 0]\n"
          ]
        }
      ],
      "source": [
        "import numpy as np\n",
        "x=np.zeros(10, dtype=int)\n",
        "if x[5]==0:\n",
        "    x[5]=1\n",
        "print(x)"
      ]
    },
    {
      "cell_type": "markdown",
      "id": "fbebedab",
      "metadata": {
        "id": "fbebedab"
      },
      "source": [
        "#### 7. Create a vector with values ranging from 10 to 49 (★☆☆)"
      ]
    },
    {
      "cell_type": "code",
      "execution_count": 7,
      "id": "3d117d54",
      "metadata": {
        "id": "3d117d54",
        "outputId": "3e5ceea6-f308-4e1f-d997-c0ffd11da897",
        "colab": {
          "base_uri": "https://localhost:8080/"
        }
      },
      "outputs": [
        {
          "output_type": "stream",
          "name": "stdout",
          "text": [
            "[10 11 12 13 14 15 16 17 18 19 20 21 22 23 24 25 26 27 28 29 30 31 32 33\n",
            " 34 35 36 37 38 39 40 41 42 43 44 45 46 47 48 49]\n"
          ]
        }
      ],
      "source": [
        "import numpy as np\n",
        "z=np.arange(10,50)\n",
        "print(z)"
      ]
    },
    {
      "cell_type": "markdown",
      "id": "ad0bff02",
      "metadata": {
        "id": "ad0bff02"
      },
      "source": [
        "#### 8. Reverse a vector (first element becomes last) (★☆☆)"
      ]
    },
    {
      "cell_type": "code",
      "execution_count": 9,
      "id": "22d23470",
      "metadata": {
        "id": "22d23470",
        "outputId": "a344a853-b0d0-4120-bcec-6eaa4ea572cb",
        "colab": {
          "base_uri": "https://localhost:8080/"
        }
      },
      "outputs": [
        {
          "output_type": "stream",
          "name": "stdout",
          "text": [
            "[79 78 77 76 75 74 73 72 71 70 69 68 67 66 65 64 63 62 61 60 59 58 57 56\n",
            " 55 54 53 52 51 50 49 48 47 46 45 44 43 42 41 40 39 38 37 36 35 34 33 32\n",
            " 31 30 29 28 27 26 25 24 23 22 21 20 19 18 17 16 15 14 13 12 11 10  9  8\n",
            "  7  6  5  4  3  2  1  0]\n"
          ]
        }
      ],
      "source": [
        "import numpy as np\n",
        "y=np.arange(80)\n",
        "y= y[::-1]\n",
        "print(y)"
      ]
    },
    {
      "cell_type": "markdown",
      "id": "9f59d7e1",
      "metadata": {
        "id": "9f59d7e1"
      },
      "source": [
        "#### 9. Create a 3x3 matrix with values ranging from 0 to 8 (★☆☆)"
      ]
    },
    {
      "cell_type": "code",
      "execution_count": 10,
      "id": "7449e82d",
      "metadata": {
        "id": "7449e82d",
        "outputId": "3f479e50-ae42-4f9c-c483-f7a9205ce9e5",
        "colab": {
          "base_uri": "https://localhost:8080/"
        }
      },
      "outputs": [
        {
          "output_type": "stream",
          "name": "stdout",
          "text": [
            "[[0 1 2]\n",
            " [3 4 5]\n",
            " [6 7 8]]\n"
          ]
        }
      ],
      "source": [
        "x=np.arange(9).reshape(3,3)\n",
        "print(x)"
      ]
    },
    {
      "cell_type": "markdown",
      "id": "f374c4cf",
      "metadata": {
        "id": "f374c4cf"
      },
      "source": [
        "#### 10. Find indices of non-zero elements from [1,2,0,0,4,0] (★☆☆)"
      ]
    },
    {
      "cell_type": "code",
      "execution_count": 11,
      "id": "1a84bed8",
      "metadata": {
        "id": "1a84bed8",
        "outputId": "0e0501d0-8e03-4a1a-9621-ca8b2973f7af",
        "colab": {
          "base_uri": "https://localhost:8080/"
        }
      },
      "outputs": [
        {
          "output_type": "stream",
          "name": "stdout",
          "text": [
            "(array([0, 1, 4]),)\n"
          ]
        }
      ],
      "source": [
        "s=np.nonzero([1,2,0,0,4,0])\n",
        "print(s)\n",
        ""
      ]
    },
    {
      "cell_type": "markdown",
      "id": "9c4707f5",
      "metadata": {
        "id": "9c4707f5"
      },
      "source": [
        "#### 11. Create a 3x3 identity matrix (★☆☆)"
      ]
    },
    {
      "cell_type": "code",
      "execution_count": 12,
      "id": "29dc1fd3",
      "metadata": {
        "id": "29dc1fd3",
        "outputId": "9a196e61-0923-4e0e-e347-1fdf6c3792fd",
        "colab": {
          "base_uri": "https://localhost:8080/"
        }
      },
      "outputs": [
        {
          "output_type": "stream",
          "name": "stdout",
          "text": [
            "[[1. 0. 0.]\n",
            " [0. 1. 0.]\n",
            " [0. 0. 1.]]\n"
          ]
        }
      ],
      "source": [
        "N=np.eye(3)\n",
        "print(N)"
      ]
    },
    {
      "cell_type": "markdown",
      "id": "3bac294a",
      "metadata": {
        "id": "3bac294a"
      },
      "source": [
        "#### 12. Create a 3x3x3 array with random values (★☆☆)"
      ]
    },
    {
      "cell_type": "code",
      "execution_count": 13,
      "id": "eadfae67",
      "metadata": {
        "id": "eadfae67",
        "outputId": "9deb3974-6ef1-4384-a5c4-075b240e5e29",
        "colab": {
          "base_uri": "https://localhost:8080/"
        }
      },
      "outputs": [
        {
          "output_type": "stream",
          "name": "stdout",
          "text": [
            "[[[0.59622108 0.38409207 0.31297151]\n",
            "  [0.13107913 0.96145002 0.6655199 ]\n",
            "  [0.67858139 0.69208288 0.49205608]]\n",
            "\n",
            " [[0.23252862 0.75935049 0.37584782]\n",
            "  [0.95130254 0.54720797 0.22079578]\n",
            "  [0.65950788 0.30544548 0.49782694]]\n",
            "\n",
            " [[0.68169247 0.98229737 0.52770395]\n",
            "  [0.36211764 0.60776171 0.68531409]\n",
            "  [0.68217582 0.24563701 0.98216332]]]\n"
          ]
        }
      ],
      "source": [
        "Y=np.random.random((3,3,3))\n",
        "print(Y)"
      ]
    },
    {
      "cell_type": "markdown",
      "id": "466c2989",
      "metadata": {
        "id": "466c2989"
      },
      "source": [
        "#### 13. Create a 10x10 array with random values and find the minimum and maximum values (★☆☆)"
      ]
    },
    {
      "cell_type": "code",
      "execution_count": 14,
      "id": "9a74dbfc",
      "metadata": {
        "id": "9a74dbfc",
        "outputId": "1486d56e-d74c-4877-bdd9-f4f22b3ae4b5",
        "colab": {
          "base_uri": "https://localhost:8080/"
        }
      },
      "outputs": [
        {
          "output_type": "stream",
          "name": "stdout",
          "text": [
            "0.000359338098192441 0.980729087587623\n"
          ]
        }
      ],
      "source": [
        "X=np.random.random((10,10))\n",
        "Xmin,Xmax=X.min(),X.max()\n",
        "print(Xmin,Xmax)\n",
        ""
      ]
    },
    {
      "cell_type": "markdown",
      "id": "53a8edb2",
      "metadata": {
        "id": "53a8edb2"
      },
      "source": [
        "#### 14. Create a random vector of size 30 and find the mean value (★☆☆)"
      ]
    },
    {
      "cell_type": "code",
      "execution_count": 15,
      "id": "6691530b",
      "metadata": {
        "id": "6691530b",
        "outputId": "00605a11-67cc-4fc1-d3ae-9b7edd56e058",
        "colab": {
          "base_uri": "https://localhost:8080/"
        }
      },
      "outputs": [
        {
          "output_type": "stream",
          "name": "stdout",
          "text": [
            "0.5422512806375918\n"
          ]
        }
      ],
      "source": [
        "y=np.random.random(30)\n",
        "m=y.mean()\n",
        "print(m)"
      ]
    },
    {
      "cell_type": "markdown",
      "id": "cbaad31c",
      "metadata": {
        "id": "cbaad31c"
      },
      "source": [
        "#### 15. Create a 2d array with 1 on the border and 0 inside (★☆☆)"
      ]
    },
    {
      "cell_type": "code",
      "execution_count": 16,
      "id": "ad8308e3",
      "metadata": {
        "id": "ad8308e3",
        "outputId": "7c955bd2-da08-4d40-8be3-921893db1e3b",
        "colab": {
          "base_uri": "https://localhost:8080/"
        }
      },
      "outputs": [
        {
          "output_type": "stream",
          "name": "stdout",
          "text": [
            "[[1. 1. 1. 1. 1. 1. 1. 1. 1. 1.]\n",
            " [1. 0. 0. 0. 0. 0. 0. 0. 0. 1.]\n",
            " [1. 0. 0. 0. 0. 0. 0. 0. 0. 1.]\n",
            " [1. 0. 0. 0. 0. 0. 0. 0. 0. 1.]\n",
            " [1. 0. 0. 0. 0. 0. 0. 0. 0. 1.]\n",
            " [1. 0. 0. 0. 0. 0. 0. 0. 0. 1.]\n",
            " [1. 0. 0. 0. 0. 0. 0. 0. 0. 1.]\n",
            " [1. 0. 0. 0. 0. 0. 0. 0. 0. 1.]\n",
            " [1. 0. 0. 0. 0. 0. 0. 0. 0. 1.]\n",
            " [1. 1. 1. 1. 1. 1. 1. 1. 1. 1.]]\n"
          ]
        }
      ],
      "source": [
        "a=np.ones((10,10))\n",
        "a[1:-1,1:-1] = 0\n",
        "print(a)"
      ]
    },
    {
      "cell_type": "markdown",
      "id": "c5ecc267",
      "metadata": {
        "id": "c5ecc267"
      },
      "source": [
        "#### 16. How to add a border (filled with 0's) around an existing array? (★☆☆)"
      ]
    },
    {
      "cell_type": "code",
      "execution_count": 17,
      "id": "9d5c78c4",
      "metadata": {
        "id": "9d5c78c4",
        "outputId": "e648d307-4cab-4ddc-b98e-72c946741263",
        "colab": {
          "base_uri": "https://localhost:8080/"
        }
      },
      "outputs": [
        {
          "output_type": "stream",
          "name": "stdout",
          "text": [
            "[[0. 0. 0. 0. 0. 0. 0. 0. 0. 0.]\n",
            " [0. 1. 1. 1. 1. 1. 1. 1. 1. 0.]\n",
            " [0. 1. 1. 1. 1. 1. 1. 1. 1. 0.]\n",
            " [0. 1. 1. 1. 1. 1. 1. 1. 1. 0.]\n",
            " [0. 1. 1. 1. 1. 1. 1. 1. 1. 0.]\n",
            " [0. 1. 1. 1. 1. 1. 1. 1. 1. 0.]\n",
            " [0. 1. 1. 1. 1. 1. 1. 1. 1. 0.]\n",
            " [0. 1. 1. 1. 1. 1. 1. 1. 1. 0.]\n",
            " [0. 1. 1. 1. 1. 1. 1. 1. 1. 0.]\n",
            " [0. 0. 0. 0. 0. 0. 0. 0. 0. 0.]]\n",
            "[[0. 0. 0. 0. 0. 0. 0. 0. 0. 0.]\n",
            " [0. 1. 1. 1. 1. 1. 1. 1. 1. 0.]\n",
            " [0. 1. 1. 1. 1. 1. 1. 1. 1. 0.]\n",
            " [0. 1. 1. 1. 1. 1. 1. 1. 1. 0.]\n",
            " [0. 1. 1. 1. 1. 1. 1. 1. 1. 0.]\n",
            " [0. 1. 1. 1. 1. 1. 1. 1. 1. 0.]\n",
            " [0. 1. 1. 1. 1. 1. 1. 1. 1. 0.]\n",
            " [0. 1. 1. 1. 1. 1. 1. 1. 1. 0.]\n",
            " [0. 1. 1. 1. 1. 1. 1. 1. 1. 0.]\n",
            " [0. 0. 0. 0. 0. 0. 0. 0. 0. 0.]]\n"
          ]
        }
      ],
      "source": [
        "import numpy as np\n",
        "A= np.ones((8,8))\n",
        "A=np.pad(A, pad_width=1, mode='constant',constant_values=0)\n",
        "print(A)\n",
        "A[:,[0,-1]] = 0\n",
        "A[[0,-1], :] = 0\n",
        "print(A)"
      ]
    },
    {
      "cell_type": "markdown",
      "id": "ef909b72",
      "metadata": {
        "id": "ef909b72"
      },
      "source": [
        "#### 17. What is the result of the following expression? (★☆☆)\n",
        "```python\n",
        "0 * np.nan\n",
        "np.nan == np.nan\n",
        "np.inf > np.nan\n",
        "np.nan - np.nan\n",
        "np.nan in set([np.nan])\n",
        "0.3 == 3 * 0.1\n",
        "```"
      ]
    },
    {
      "cell_type": "code",
      "execution_count": 18,
      "id": "3b4985f2",
      "metadata": {
        "id": "3b4985f2",
        "outputId": "afbe9f74-4b87-49d6-e987-67c38d01f353",
        "colab": {
          "base_uri": "https://localhost:8080/"
        }
      },
      "outputs": [
        {
          "output_type": "stream",
          "name": "stdout",
          "text": [
            "nan\n",
            "False\n",
            "False\n",
            "nan\n",
            "True\n",
            "False\n"
          ]
        }
      ],
      "source": [
        "print(0 * np.nan)\n",
        "print(np.nan==np.nan)\n",
        "print(np.inf > np.nan)\n",
        "print(np.nan - np.nan)\n",
        "print(np.nan in set([np.nan]))\n",
        "print(0.3 == 3 * 0.1)\n"
      ]
    },
    {
      "cell_type": "markdown",
      "id": "502738ac",
      "metadata": {
        "id": "502738ac"
      },
      "source": [
        "#### 18. Create a 5x5 matrix with values 1,2,3,4 just below the diagonal (★☆☆)"
      ]
    },
    {
      "cell_type": "code",
      "execution_count": 19,
      "id": "faed6e2b",
      "metadata": {
        "id": "faed6e2b",
        "outputId": "cee4f461-5152-4c60-896e-239033962e27",
        "colab": {
          "base_uri": "https://localhost:8080/"
        }
      },
      "outputs": [
        {
          "output_type": "stream",
          "name": "stdout",
          "text": [
            "[[0 0 0 0 0]\n",
            " [1 0 0 0 0]\n",
            " [0 2 0 0 0]\n",
            " [0 0 3 0 0]\n",
            " [0 0 0 4 0]]\n"
          ]
        }
      ],
      "source": [
        "X=np.diag(1+np.arange(4),k=-1)\n",
        "print(X)\n",
        ""
      ]
    },
    {
      "cell_type": "markdown",
      "id": "a65da660",
      "metadata": {
        "id": "a65da660"
      },
      "source": [
        "#### 19. Create a 8x8 matrix and fill it with a checkerboard pattern (★☆☆)"
      ]
    },
    {
      "cell_type": "code",
      "execution_count": 20,
      "id": "ed150400",
      "metadata": {
        "id": "ed150400",
        "outputId": "5e40a2d3-d8fb-4881-b250-2d3a43ddcb54",
        "colab": {
          "base_uri": "https://localhost:8080/"
        }
      },
      "outputs": [
        {
          "output_type": "stream",
          "name": "stdout",
          "text": [
            "[[0 1 0 1 0 1 0 1]\n",
            " [1 0 1 0 1 0 1 0]\n",
            " [0 1 0 1 0 1 0 1]\n",
            " [1 0 1 0 1 0 1 0]\n",
            " [0 1 0 1 0 1 0 1]\n",
            " [1 0 1 0 1 0 1 0]\n",
            " [0 1 0 1 0 1 0 1]\n",
            " [1 0 1 0 1 0 1 0]]\n"
          ]
        }
      ],
      "source": [
        "M=np.zeros((8,8),dtype=int)\n",
        "M[1::2,::2] =1\n",
        "M[::2,1::2] =1\n",
        "print(M)"
      ]
    },
    {
      "cell_type": "markdown",
      "id": "9f7f9c49",
      "metadata": {
        "id": "9f7f9c49"
      },
      "source": [
        "#### 20. Consider a (6,7,8) shape array, what is the index (x,y,z) of the 100th element? (★☆☆)"
      ]
    },
    {
      "cell_type": "code",
      "execution_count": 21,
      "id": "3782b5a9",
      "metadata": {
        "id": "3782b5a9",
        "outputId": "c7b473b9-6f72-4f10-b938-b2f64974cbe4",
        "colab": {
          "base_uri": "https://localhost:8080/"
        }
      },
      "outputs": [
        {
          "output_type": "stream",
          "name": "stdout",
          "text": [
            "(1, 5, 3)\n"
          ]
        }
      ],
      "source": [
        "import numpy as np\n",
        "print(np.unravel_index(99,(6,7,8)))"
      ]
    },
    {
      "cell_type": "markdown",
      "id": "66bfda35",
      "metadata": {
        "id": "66bfda35"
      },
      "source": [
        "#### 21. Create a checkerboard 8x8 matrix using the tile function (★☆☆)"
      ]
    },
    {
      "cell_type": "code",
      "execution_count": 22,
      "id": "4c07477c",
      "metadata": {
        "id": "4c07477c",
        "outputId": "8bce89d4-697f-4dcb-8638-eb41c993c6f3",
        "colab": {
          "base_uri": "https://localhost:8080/"
        }
      },
      "outputs": [
        {
          "output_type": "stream",
          "name": "stdout",
          "text": [
            "[[0 1 0 1 0 1 0 1]\n",
            " [1 0 1 0 1 0 1 0]\n",
            " [0 1 0 1 0 1 0 1]\n",
            " [1 0 1 0 1 0 1 0]\n",
            " [0 1 0 1 0 1 0 1]\n",
            " [1 0 1 0 1 0 1 0]\n",
            " [0 1 0 1 0 1 0 1]\n",
            " [1 0 1 0 1 0 1 0]]\n"
          ]
        }
      ],
      "source": [
        "\n",
        "import numpy as np\n",
        "X= np.tile(np.array([[0,1], [1,0]]), (4,4))\n",
        "print (X)"
      ]
    },
    {
      "cell_type": "markdown",
      "id": "d5bcfc08",
      "metadata": {
        "id": "d5bcfc08"
      },
      "source": [
        "#### 22. Normalize a 5x5 random matrix (★☆☆)"
      ]
    },
    {
      "cell_type": "code",
      "execution_count": 23,
      "id": "cea6c993",
      "metadata": {
        "id": "cea6c993",
        "outputId": "10ac6ae4-a828-4514-9514-d56796248115",
        "colab": {
          "base_uri": "https://localhost:8080/"
        }
      },
      "outputs": [
        {
          "output_type": "stream",
          "name": "stdout",
          "text": [
            "[[ 1.40551575  1.11626698 -1.09555278 -1.36190738  1.20575067]\n",
            " [ 1.44301413 -0.77728338 -0.40535724  1.33938494  1.0919491 ]\n",
            " [-0.21058606 -1.44514496  0.34436319 -0.81757963 -1.31085496]\n",
            " [ 0.15708681 -0.85096936  0.17081209 -0.59693097  1.18236623]\n",
            " [ 1.01681373 -0.45371761 -0.62174837  0.85463927 -1.38033021]]\n"
          ]
        }
      ],
      "source": [
        "T=np.random.random((5,5))\n",
        "T=(T-np.mean(T))/(np.std(T))\n",
        "print(T)"
      ]
    },
    {
      "cell_type": "markdown",
      "id": "f9a0911e",
      "metadata": {
        "id": "f9a0911e"
      },
      "source": [
        "#### 23. Create a custom dtype that describes a color as four unsigned bytes (RGBA) (★☆☆)"
      ]
    },
    {
      "cell_type": "code",
      "execution_count": 24,
      "id": "d165044b",
      "metadata": {
        "id": "d165044b"
      },
      "outputs": [],
      "source": [
        "import numpy as np\n",
        "color = np.dtype([(\"r\",np.ubyte),\n",
        "                  (\"g\",np.ubyte),\n",
        "                  (\"b\",np.ubyte),\n",
        "                  (\"a\",np.ubyte)])\n",
        ""
      ]
    },
    {
      "cell_type": "markdown",
      "id": "654805b1",
      "metadata": {
        "id": "654805b1"
      },
      "source": [
        "#### 24. Multiply a 5x3 matrix by a 3x2 matrix (real matrix product) (★☆☆)"
      ]
    },
    {
      "cell_type": "code",
      "execution_count": 25,
      "id": "6a42619f",
      "metadata": {
        "id": "6a42619f",
        "outputId": "06a8c67c-2599-45fb-acad-81f56642422e",
        "colab": {
          "base_uri": "https://localhost:8080/"
        }
      },
      "outputs": [
        {
          "output_type": "stream",
          "name": "stdout",
          "text": [
            "[[3. 3.]\n",
            " [3. 3.]\n",
            " [3. 3.]\n",
            " [3. 3.]\n",
            " [3. 3.]]\n",
            "[[3. 3.]\n",
            " [3. 3.]\n",
            " [3. 3.]\n",
            " [3. 3.]\n",
            " [3. 3.]]\n"
          ]
        }
      ],
      "source": [
        "A=np.dot(np.ones((5,3)), np.ones((3,2)))\n",
        "print(A)\n",
        "A=np.ones((5,3)) @ np.ones((3,2))\n",
        "print(A)\n",
        ""
      ]
    },
    {
      "cell_type": "markdown",
      "id": "994c25df",
      "metadata": {
        "id": "994c25df"
      },
      "source": [
        "#### 25. Given a 1D array, negate all elements which are between 3 and 8, in place. (★☆☆)"
      ]
    },
    {
      "cell_type": "code",
      "execution_count": 27,
      "id": "e4b39c03",
      "metadata": {
        "id": "e4b39c03",
        "outputId": "81256189-a162-4712-eeb2-70025134a859",
        "colab": {
          "base_uri": "https://localhost:8080/"
        }
      },
      "outputs": [
        {
          "output_type": "stream",
          "name": "stdout",
          "text": [
            "[ 0  1  2  3 -4 -5 -6 -7 -8  9 10]\n"
          ]
        }
      ],
      "source": [
        "D=np.arange(11)\n",
        "D[(3<D)&(D<=8)]*=-1\n",
        "print(D)"
      ]
    },
    {
      "cell_type": "markdown",
      "id": "b7d15d1a",
      "metadata": {
        "id": "b7d15d1a"
      },
      "source": [
        "#### 26. What is the output of the following script? (★☆☆)\n",
        "```python\n",
        "# Author: Jake VanderPlas\n",
        "\n",
        "print(sum(range(5),-1))\n",
        "from numpy import *\n",
        "print(sum(range(5),-1))\n",
        "```"
      ]
    },
    {
      "cell_type": "code",
      "execution_count": 26,
      "id": "4c95bc3f",
      "metadata": {
        "id": "4c95bc3f",
        "outputId": "64fedb00-5c32-4804-ee7c-cffd6f709526",
        "colab": {
          "base_uri": "https://localhost:8080/"
        }
      },
      "outputs": [
        {
          "output_type": "stream",
          "name": "stdout",
          "text": [
            "9\n",
            "10\n"
          ]
        }
      ],
      "source": [
        "print(sum(range(5),-1))\n",
        "from numpy import *\n",
        "print(sum(range(5),-1))"
      ]
    },
    {
      "cell_type": "markdown",
      "id": "a34f0d08",
      "metadata": {
        "id": "a34f0d08"
      },
      "source": [
        "#### 27. Consider an integer vector Z, which of these expressions are legal? (★☆☆)\n",
        "```python\n",
        "Z**Z\n",
        "2 << Z >> 2\n",
        "Z <- Z\n",
        "1j*Z\n",
        "Z/1/1\n",
        "Z<Z>Z\n",
        "```"
      ]
    },
    {
      "cell_type": "code",
      "execution_count": 29,
      "id": "564658fc",
      "metadata": {
        "id": "564658fc",
        "outputId": "934765ca-d680-4f27-a760-5261ec0b23f8",
        "colab": {
          "base_uri": "https://localhost:8080/"
        }
      },
      "outputs": [
        {
          "output_type": "execute_result",
          "data": {
            "text/plain": [
              "array([ 1,  2,  4,  8, 16])"
            ]
          },
          "metadata": {},
          "execution_count": 29
        }
      ],
      "source": [
        "# Assuming you want Z to be an array of numbers,\n",
        "# for example, an array of floats:\n",
        "import numpy as np\n",
        "\n",
        "Z = np.array([1.1, 2.2, 3.3, 4.4, 5.5])\n",
        "Z = Z.astype(int)\n",
        "2 << Z >> 2"
      ]
    },
    {
      "cell_type": "markdown",
      "id": "c34e94bf",
      "metadata": {
        "id": "c34e94bf"
      },
      "source": [
        "#### 28. What are the result of the following expressions? (★☆☆)\n",
        "```python\n",
        "np.array(0) / np.array(0)\n",
        "np.array(0) // np.array(0)\n",
        "np.array([np.nan]).astype(int).astype(float)\n",
        "```"
      ]
    },
    {
      "cell_type": "code",
      "execution_count": 30,
      "id": "56663562",
      "metadata": {
        "id": "56663562",
        "outputId": "3d403885-ed31-4782-fc1f-41e78672a41c",
        "colab": {
          "base_uri": "https://localhost:8080/"
        }
      },
      "outputs": [
        {
          "output_type": "stream",
          "name": "stdout",
          "text": [
            "nan\n",
            "0\n",
            "[-9.22337204e+18]\n"
          ]
        },
        {
          "output_type": "stream",
          "name": "stderr",
          "text": [
            "<ipython-input-30-2a10de0ee61b>:1: RuntimeWarning: invalid value encountered in divide\n",
            "  print(np.array(0) / np.array(0))\n",
            "<ipython-input-30-2a10de0ee61b>:2: RuntimeWarning: divide by zero encountered in floor_divide\n",
            "  print(np.array(0) // np.array(0))\n",
            "<ipython-input-30-2a10de0ee61b>:3: RuntimeWarning: invalid value encountered in cast\n",
            "  print(np.array([np.nan]).astype(int).astype(float))\n"
          ]
        }
      ],
      "source": [
        "print(np.array(0) / np.array(0))\n",
        "print(np.array(0) // np.array(0))\n",
        "print(np.array([np.nan]).astype(int).astype(float))"
      ]
    },
    {
      "cell_type": "markdown",
      "id": "546f5e7b",
      "metadata": {
        "id": "546f5e7b"
      },
      "source": [
        "#### 29. How to round away from zero a float array ? (★☆☆)"
      ]
    },
    {
      "cell_type": "code",
      "execution_count": 31,
      "id": "f725a6d2",
      "metadata": {
        "id": "f725a6d2",
        "outputId": "0c162b0a-0b8b-4542-d35d-7191e65a0569",
        "colab": {
          "base_uri": "https://localhost:8080/"
        }
      },
      "outputs": [
        {
          "output_type": "stream",
          "name": "stdout",
          "text": [
            "[  6.   9.  -5.   2.  -4.  -6.   2.  -2.  -4. -10.]\n",
            "[  6.   9.  -5.   2.  -4.  -6.   2.  -2.  -4. -10.]\n"
          ]
        }
      ],
      "source": [
        "Z= np.random.uniform(-10,+10,10)\n",
        "print(np.copysign(np.ceil(np.abs(Z)), Z))\n",
        "print(np.where(Z>0, np.ceil(Z), np.floor(Z)))"
      ]
    },
    {
      "cell_type": "markdown",
      "id": "eadca856",
      "metadata": {
        "id": "eadca856"
      },
      "source": [
        "#### 30. How to find common values between two arrays? (★☆☆)"
      ]
    },
    {
      "cell_type": "code",
      "execution_count": 32,
      "id": "e0270b5b",
      "metadata": {
        "id": "e0270b5b",
        "outputId": "7a466916-085a-42f3-dfba-290f973ffd6d",
        "colab": {
          "base_uri": "https://localhost:8080/"
        }
      },
      "outputs": [
        {
          "output_type": "stream",
          "name": "stdout",
          "text": [
            "[  4   5   9  11  15  17  22  23  25  31  38  39  40  45  47  56  57  58\n",
            "  60  61  62  63  67  68  70  71  72  76  80  81  87  88  91  94  96  97\n",
            "  98 104 105 106 107 113 114 115 117 118 119 122 126 128 133 134 135 138\n",
            " 143 145 147 148 149 151 152 155 156 160 161 163 169 170 171 175 179 189\n",
            " 195 197 199]\n"
          ]
        }
      ],
      "source": [
        "A1=np.random.randint(0,200,200)\n",
        "A2=np.random.randint(0,200,200)\n",
        "print(np.intersect1d(A1,A2))"
      ]
    },
    {
      "cell_type": "markdown",
      "id": "ca16ca22",
      "metadata": {
        "id": "ca16ca22"
      },
      "source": [
        "#### 31. How to ignore all numpy warnings (not recommended)? (★☆☆)"
      ]
    },
    {
      "cell_type": "code",
      "execution_count": 33,
      "id": "7d7208ef",
      "metadata": {
        "id": "7d7208ef",
        "outputId": "7fec96d2-e6ae-49f3-f4c9-69a1f8cffe39",
        "colab": {
          "base_uri": "https://localhost:8080/"
        }
      },
      "outputs": [
        {
          "output_type": "stream",
          "name": "stdout",
          "text": [
            "[nan inf inf]\n"
          ]
        }
      ],
      "source": [
        "defaults = np.seterr(all=\"ignore\")\n",
        "X=np.ones(1)/0\n",
        "np.seterr(**defaults)\n",
        "with np.errstate(all=\"ignore\"):\n",
        "    np.arange(3)/0\n",
        "    X=np.arange(3)/0\n",
        "    print(X)"
      ]
    },
    {
      "cell_type": "markdown",
      "id": "c7871d0d",
      "metadata": {
        "id": "c7871d0d"
      },
      "source": [
        "#### 32. Is the following expressions true? (★☆☆)\n",
        "```python\n",
        "np.sqrt(-1) == np.emath.sqrt(-1)\n",
        "```"
      ]
    },
    {
      "cell_type": "code",
      "execution_count": 34,
      "id": "acc3701a",
      "metadata": {
        "id": "acc3701a",
        "outputId": "42db7fe7-d9c1-4c8d-d9fc-427ad931f775",
        "colab": {
          "base_uri": "https://localhost:8080/"
        }
      },
      "outputs": [
        {
          "output_type": "stream",
          "name": "stderr",
          "text": [
            "<ipython-input-34-5295bc09d449>:2: RuntimeWarning: invalid value encountered in sqrt\n",
            "  np.sqrt(-1)==np.emath.sqrt(-1)\n",
            "<ipython-input-34-5295bc09d449>:3: RuntimeWarning: invalid value encountered in sqrt\n",
            "  np.sqrt(-1)==np.emath.sqrt(-1)\n"
          ]
        },
        {
          "output_type": "execute_result",
          "data": {
            "text/plain": [
              "False"
            ]
          },
          "metadata": {},
          "execution_count": 34
        }
      ],
      "source": [
        "import numpy as np\n",
        "np.sqrt(-1)==np.emath.sqrt(-1)\n",
        "np.sqrt(-1)==np.emath.sqrt(-1)"
      ]
    },
    {
      "cell_type": "markdown",
      "id": "e0433e30",
      "metadata": {
        "id": "e0433e30"
      },
      "source": [
        "#### 33. How to get the dates of yesterday, today and tomorrow? (★☆☆)"
      ]
    },
    {
      "cell_type": "code",
      "execution_count": 40,
      "id": "9c4d2152",
      "metadata": {
        "id": "9c4d2152",
        "outputId": "5eb3adb2-9cd1-4218-b150-8799e6ad26a7",
        "colab": {
          "base_uri": "https://localhost:8080/"
        }
      },
      "outputs": [
        {
          "output_type": "stream",
          "name": "stdout",
          "text": [
            "2024-12-01\n",
            "2024-12-02\n",
            "2024-12-03\n"
          ]
        }
      ],
      "source": [
        "import numpy as np\n",
        "yesterday=np.datetime64('today')-np.timedelta64(1)\n",
        "today=np.datetime64('today')\n",
        "tomorrow=np.datetime64('today')+np.timedelta64(1)\n",
        "print(yesterday)\n",
        "print(today)\n",
        "print(tomorrow)"
      ]
    },
    {
      "cell_type": "markdown",
      "id": "9f52a2ef",
      "metadata": {
        "id": "9f52a2ef"
      },
      "source": [
        "#### 34. How to get all the dates corresponding to the month of July 2016? (★★☆)"
      ]
    },
    {
      "cell_type": "code",
      "execution_count": 41,
      "id": "d6c34dec",
      "metadata": {
        "id": "d6c34dec",
        "outputId": "b48a26d2-e3c2-4542-d880-d852ffd10278",
        "colab": {
          "base_uri": "https://localhost:8080/"
        }
      },
      "outputs": [
        {
          "output_type": "stream",
          "name": "stdout",
          "text": [
            "['2016-07-01' '2016-07-02' '2016-07-03' '2016-07-04' '2016-07-05'\n",
            " '2016-07-06' '2016-07-07' '2016-07-08' '2016-07-09' '2016-07-10'\n",
            " '2016-07-11' '2016-07-12' '2016-07-13' '2016-07-14' '2016-07-15'\n",
            " '2016-07-16' '2016-07-17' '2016-07-18' '2016-07-19' '2016-07-20'\n",
            " '2016-07-21' '2016-07-22' '2016-07-23' '2016-07-24' '2016-07-25'\n",
            " '2016-07-26' '2016-07-27' '2016-07-28' '2016-07-29' '2016-07-30'\n",
            " '2016-07-31']\n"
          ]
        }
      ],
      "source": [
        "L=np.arange('2016-07','2016-08',dtype='datetime64[D]')\n",
        "print(L)"
      ]
    },
    {
      "cell_type": "markdown",
      "id": "4a64e059",
      "metadata": {
        "id": "4a64e059"
      },
      "source": [
        "#### 35. How to compute ((A+B)*(-A/2)) in place (without copy)? (★★☆)"
      ]
    },
    {
      "cell_type": "code",
      "execution_count": 42,
      "id": "49267f60",
      "metadata": {
        "id": "49267f60",
        "outputId": "6ecf747a-bd78-424b-997c-1d9a6a3f30c8",
        "colab": {
          "base_uri": "https://localhost:8080/"
        }
      },
      "outputs": [
        {
          "output_type": "execute_result",
          "data": {
            "text/plain": [
              "array([-5., -5., -5., -5., -5.])"
            ]
          },
          "metadata": {},
          "execution_count": 42
        }
      ],
      "source": [
        "X=np.ones(5)*2\n",
        "Y=np.ones(5)*3\n",
        "np.add(X,Y,out=Y)\n",
        "np.divide(X,2,out=X)\n",
        "np.negative(X,out=X)\n",
        "np.multiply(X,Y,out=X)"
      ]
    },
    {
      "cell_type": "markdown",
      "id": "8a98c2a8",
      "metadata": {
        "id": "8a98c2a8"
      },
      "source": [
        "#### 36. Extract the integer part of a random array of positive numbers using 4 different methods (★★☆)"
      ]
    },
    {
      "cell_type": "code",
      "execution_count": 44,
      "id": "368130b3",
      "metadata": {
        "id": "368130b3",
        "outputId": "d7fcdc8c-f9e4-4546-c90e-918df177daf3",
        "colab": {
          "base_uri": "https://localhost:8080/"
        }
      },
      "outputs": [
        {
          "output_type": "stream",
          "name": "stdout",
          "text": [
            "[18.  8. 35. 24. 28. 35. 16.  5. 33. 33. 37.  0. 23. 35. 32.  7.  6. 40.\n",
            " 44.  2. 45. 28. 47. 17. 39. 29. 17. 31. 36. 14. 31. 49.  9. 19. 22. 48.\n",
            " 38. 11. 13.  6. 14.  0.  7.  6. 39. 21. 36. 39. 30. 15. 12.  8. 10.  6.\n",
            " 12.  1. 49. 22. 23. 18. 26. 22. 28. 20. 18. 27. 32. 32. 23. 11.]\n",
            "[18.  8. 35. 24. 28. 35. 16.  5. 33. 33. 37.  0. 23. 35. 32.  7.  6. 40.\n",
            " 44.  2. 45. 28. 47. 17. 39. 29. 17. 31. 36. 14. 31. 49.  9. 19. 22. 48.\n",
            " 38. 11. 13.  6. 14.  0.  7.  6. 39. 21. 36. 39. 30. 15. 12.  8. 10.  6.\n",
            " 12.  1. 49. 22. 23. 18. 26. 22. 28. 20. 18. 27. 32. 32. 23. 11.]\n",
            "[18.  8. 35. 24. 28. 35. 16.  5. 33. 33. 37.  0. 23. 35. 32.  7.  6. 40.\n",
            " 44.  2. 45. 28. 47. 17. 39. 29. 17. 31. 36. 14. 31. 49.  9. 19. 22. 48.\n",
            " 38. 11. 13.  6. 14.  0.  7.  6. 39. 21. 36. 39. 30. 15. 12.  8. 10.  6.\n",
            " 12.  1. 49. 22. 23. 18. 26. 22. 28. 20. 18. 27. 32. 32. 23. 11.]\n",
            "[18  8 35 24 28 35 16  5 33 33 37  0 23 35 32  7  6 40 44  2 45 28 47 17\n",
            " 39 29 17 31 36 14 31 49  9 19 22 48 38 11 13  6 14  0  7  6 39 21 36 39\n",
            " 30 15 12  8 10  6 12  1 49 22 23 18 26 22 28 20 18 27 32 32 23 11]\n",
            "[18.  8. 35. 24. 28. 35. 16.  5. 33. 33. 37.  0. 23. 35. 32.  7.  6. 40.\n",
            " 44.  2. 45. 28. 47. 17. 39. 29. 17. 31. 36. 14. 31. 49.  9. 19. 22. 48.\n",
            " 38. 11. 13.  6. 14.  0.  7.  6. 39. 21. 36. 39. 30. 15. 12.  8. 10.  6.\n",
            " 12.  1. 49. 22. 23. 18. 26. 22. 28. 20. 18. 27. 32. 32. 23. 11.]\n"
          ]
        }
      ],
      "source": [
        "K=np.random.uniform(0,50,70)\n",
        "print(K-K%1) # Removed extra indentation (two spaces)\n",
        "print(np.floor(K))\n",
        "print(np.ceil(K)-1)\n",
        "print(K.astype(int))\n",
        "print(np.trunc(K))"
      ]
    },
    {
      "cell_type": "markdown",
      "id": "5a2e3d85",
      "metadata": {
        "id": "5a2e3d85"
      },
      "source": [
        "#### 37. Create a 5x5 matrix with row values ranging from 0 to 4 (★★☆)"
      ]
    },
    {
      "cell_type": "code",
      "execution_count": 45,
      "id": "1d974e8f",
      "metadata": {
        "id": "1d974e8f",
        "outputId": "a77012fe-4992-4678-fea3-bb27a77d7168",
        "colab": {
          "base_uri": "https://localhost:8080/"
        }
      },
      "outputs": [
        {
          "output_type": "stream",
          "name": "stdout",
          "text": [
            "[[0. 1. 2. 3. 4.]\n",
            " [0. 1. 2. 3. 4.]\n",
            " [0. 1. 2. 3. 4.]\n",
            " [0. 1. 2. 3. 4.]\n",
            " [0. 1. 2. 3. 4.]]\n",
            "[[0 1 2 3 4]\n",
            " [0 1 2 3 4]\n",
            " [0 1 2 3 4]\n",
            " [0 1 2 3 4]\n",
            " [0 1 2 3 4]]\n"
          ]
        }
      ],
      "source": [
        "Y=np.zeros((5,5))\n",
        "Y+=np.arange(5)\n",
        "print(Y)\n",
        "Y=np.tile(np.arange(0,5),(5,1))\n",
        "print(Y)"
      ]
    },
    {
      "cell_type": "markdown",
      "id": "9720e2d5",
      "metadata": {
        "id": "9720e2d5"
      },
      "source": [
        "#### 38. Consider a generator function that generates 10 integers and use it to build an array (★☆☆)"
      ]
    },
    {
      "cell_type": "code",
      "execution_count": 46,
      "id": "e5dd8fc9",
      "metadata": {
        "id": "e5dd8fc9",
        "outputId": "afc23b30-40e2-40f3-f890-ff459b2ee653",
        "colab": {
          "base_uri": "https://localhost:8080/"
        }
      },
      "outputs": [
        {
          "output_type": "stream",
          "name": "stdout",
          "text": [
            "[0. 1. 2. 3. 4. 5. 6. 7. 8. 9.]\n"
          ]
        }
      ],
      "source": [
        "def generate():\n",
        "  for y in range(10):\n",
        "    yield y\n",
        "x=np.fromiter(generate(),dtype=float,count=-1)\n",
        "print(x)"
      ]
    },
    {
      "cell_type": "markdown",
      "id": "c6f2c912",
      "metadata": {
        "id": "c6f2c912"
      },
      "source": [
        "#### 39. Create a vector of size 10 with values ranging from 0 to 1, both excluded (★★☆)"
      ]
    },
    {
      "cell_type": "code",
      "execution_count": 47,
      "id": "6aaa27d3",
      "metadata": {
        "id": "6aaa27d3",
        "outputId": "9de495d3-01a8-416c-e9c9-62a0cb2474cc",
        "colab": {
          "base_uri": "https://localhost:8080/"
        }
      },
      "outputs": [
        {
          "output_type": "stream",
          "name": "stdout",
          "text": [
            "[0.09090909 0.18181818 0.27272727 0.36363636 0.45454545 0.54545455\n",
            " 0.63636364 0.72727273 0.81818182 0.90909091]\n"
          ]
        }
      ],
      "source": [
        "Q=np.linspace(0,1,11,endpoint=False)[1:]\n",
        "print(Q)"
      ]
    },
    {
      "cell_type": "markdown",
      "id": "a36d6ee4",
      "metadata": {
        "id": "a36d6ee4"
      },
      "source": [
        "#### 40. Create a random vector of size 10 and sort it (★★☆)"
      ]
    },
    {
      "cell_type": "code",
      "execution_count": 48,
      "id": "e589d216",
      "metadata": {
        "id": "e589d216",
        "outputId": "6eb85205-da7a-45fd-8f2b-24d075728af5",
        "colab": {
          "base_uri": "https://localhost:8080/"
        }
      },
      "outputs": [
        {
          "output_type": "stream",
          "name": "stdout",
          "text": [
            "[0.25477598 0.27805071 0.3667232  0.48774461 0.58564854 0.75635519\n",
            " 0.75801018 0.77917695 0.88408148 0.95651   ]\n"
          ]
        }
      ],
      "source": [
        "N=np.random.random(10)\n",
        "N.sort()\n",
        "print(N)"
      ]
    },
    {
      "cell_type": "markdown",
      "id": "0fb4ad68",
      "metadata": {
        "id": "0fb4ad68"
      },
      "source": [
        "#### 41. How to sum a small array faster than np.sum? (★★☆)"
      ]
    },
    {
      "cell_type": "code",
      "execution_count": 49,
      "id": "a1ba05a0",
      "metadata": {
        "id": "a1ba05a0",
        "outputId": "523a0975-0085-43f6-c053-e4cb8d75b8a8",
        "colab": {
          "base_uri": "https://localhost:8080/"
        }
      },
      "outputs": [
        {
          "output_type": "execute_result",
          "data": {
            "text/plain": [
              "26335"
            ]
          },
          "metadata": {},
          "execution_count": 49
        }
      ],
      "source": [
        "B=np.arange(230)\n",
        "np.add.reduce(B)"
      ]
    },
    {
      "cell_type": "markdown",
      "id": "024ac365",
      "metadata": {
        "id": "024ac365"
      },
      "source": [
        "#### 42. Consider two random array A and B, check if they are equal (★★☆)"
      ]
    },
    {
      "cell_type": "code",
      "execution_count": 50,
      "id": "7db3846d",
      "metadata": {
        "id": "7db3846d",
        "outputId": "8209896b-bdcc-422a-eb82-c47704c81641",
        "colab": {
          "base_uri": "https://localhost:8080/"
        }
      },
      "outputs": [
        {
          "output_type": "stream",
          "name": "stdout",
          "text": [
            "False\n",
            "False\n"
          ]
        }
      ],
      "source": [
        "A=np.random.randint(0,6,15)\n",
        "B=np.random.randint(0,6,15)\n",
        "equal=np.allclose(A,B)\n",
        "print(equal)\n",
        "equal=np.array_equal(A,B)\n",
        "print(equal)"
      ]
    },
    {
      "cell_type": "markdown",
      "id": "c68d2401",
      "metadata": {
        "id": "c68d2401"
      },
      "source": [
        "#### 43. Make an array immutable (read-only) (★★☆)"
      ]
    },
    {
      "cell_type": "code",
      "execution_count": 51,
      "id": "7828539d",
      "metadata": {
        "id": "7828539d",
        "outputId": "b4016a82-faf0-4a91-be01-1c592e56657a",
        "colab": {
          "base_uri": "https://localhost:8080/"
        }
      },
      "outputs": [
        {
          "output_type": "stream",
          "name": "stdout",
          "text": [
            "[1. 0. 0. 0. 0. 0. 0. 0. 0. 0.]\n"
          ]
        }
      ],
      "source": [
        "Z = np.zeros(10)\n",
        "Z[0] = 1\n",
        "print(Z)"
      ]
    },
    {
      "cell_type": "markdown",
      "id": "55df6280",
      "metadata": {
        "id": "55df6280"
      },
      "source": [
        "#### 44. Consider a random 10x2 matrix representing cartesian coordinates, convert them to polar coordinates (★★☆)"
      ]
    },
    {
      "cell_type": "code",
      "execution_count": 52,
      "id": "f1c86ea0",
      "metadata": {
        "id": "f1c86ea0",
        "outputId": "b7f62c36-8333-40a5-a11e-6315c4dcf8b0",
        "colab": {
          "base_uri": "https://localhost:8080/"
        }
      },
      "outputs": [
        {
          "output_type": "stream",
          "name": "stdout",
          "text": [
            "[1.44851511 1.1785444  0.93010799 1.05628076 0.61750663 1.51622559\n",
            " 1.46293481 0.8928502  1.83549512 0.98850355]\n",
            "[0.70251919 0.80050979 1.30950557 0.38327605 0.05373256 0.32359204\n",
            " 0.41443418 0.27036386 0.74941344 1.1040769 ]\n"
          ]
        }
      ],
      "source": [
        "Z = np.random.random((10,2))\n",
        "X,Y = Z[:,0], Z[:,1]\n",
        "R = np.sqrt(X*2+Y*2)\n",
        "T = np.arctan2(Y,X)\n",
        "print(R)\n",
        "print(T)"
      ]
    },
    {
      "cell_type": "markdown",
      "id": "2f60f1ec",
      "metadata": {
        "id": "2f60f1ec"
      },
      "source": [
        "#### 45. Create random vector of size 10 and replace the maximum value by 0 (★★☆)"
      ]
    },
    {
      "cell_type": "code",
      "execution_count": 53,
      "id": "d9f48f1c",
      "metadata": {
        "id": "d9f48f1c",
        "outputId": "49e470fc-c4ad-44ae-addc-03c64270dd5e",
        "colab": {
          "base_uri": "https://localhost:8080/"
        }
      },
      "outputs": [
        {
          "output_type": "stream",
          "name": "stdout",
          "text": [
            "[0.35578249 0.0325021  0.76036933 0.20705196 0.15485739 0.22216264\n",
            " 0.41953243 0.82863549 0.         0.3484447 ]\n"
          ]
        }
      ],
      "source": [
        "A=np.random.random(10)\n",
        "A[A.argmax()]=0\n",
        "print(A)"
      ]
    },
    {
      "cell_type": "markdown",
      "id": "084e8ad4",
      "metadata": {
        "id": "084e8ad4"
      },
      "source": [
        "#### 46. Create a structured array with `x` and `y` coordinates covering the [0,1]x[0,1] area (★★☆)"
      ]
    },
    {
      "cell_type": "code",
      "execution_count": 54,
      "id": "58b47c13",
      "metadata": {
        "id": "58b47c13",
        "outputId": "032e016e-a969-4567-bd9d-56af2362adf3",
        "colab": {
          "base_uri": "https://localhost:8080/"
        }
      },
      "outputs": [
        {
          "output_type": "stream",
          "name": "stdout",
          "text": [
            "[[(0.        , 0.        ) (0.16666667, 0.        )\n",
            "  (0.33333333, 0.        ) (0.5       , 0.        )\n",
            "  (0.66666667, 0.        ) (0.83333333, 0.        )\n",
            "  (1.        , 0.        )]\n",
            " [(0.        , 0.16666667) (0.16666667, 0.16666667)\n",
            "  (0.33333333, 0.16666667) (0.5       , 0.16666667)\n",
            "  (0.66666667, 0.16666667) (0.83333333, 0.16666667)\n",
            "  (1.        , 0.16666667)]\n",
            " [(0.        , 0.33333333) (0.16666667, 0.33333333)\n",
            "  (0.33333333, 0.33333333) (0.5       , 0.33333333)\n",
            "  (0.66666667, 0.33333333) (0.83333333, 0.33333333)\n",
            "  (1.        , 0.33333333)]\n",
            " [(0.        , 0.5       ) (0.16666667, 0.5       )\n",
            "  (0.33333333, 0.5       ) (0.5       , 0.5       )\n",
            "  (0.66666667, 0.5       ) (0.83333333, 0.5       )\n",
            "  (1.        , 0.5       )]\n",
            " [(0.        , 0.66666667) (0.16666667, 0.66666667)\n",
            "  (0.33333333, 0.66666667) (0.5       , 0.66666667)\n",
            "  (0.66666667, 0.66666667) (0.83333333, 0.66666667)\n",
            "  (1.        , 0.66666667)]\n",
            " [(0.        , 0.83333333) (0.16666667, 0.83333333)\n",
            "  (0.33333333, 0.83333333) (0.5       , 0.83333333)\n",
            "  (0.66666667, 0.83333333) (0.83333333, 0.83333333)\n",
            "  (1.        , 0.83333333)]\n",
            " [(0.        , 1.        ) (0.16666667, 1.        )\n",
            "  (0.33333333, 1.        ) (0.5       , 1.        )\n",
            "  (0.66666667, 1.        ) (0.83333333, 1.        )\n",
            "  (1.        , 1.        )]]\n"
          ]
        }
      ],
      "source": [
        "Z = np.zeros((7,7), [('x',float),('y',float)])\n",
        "Z['x'], Z['y'] = np.meshgrid(np.linspace(0,1,7),\n",
        "                             np.linspace(0,1,7))\n",
        "print(Z)"
      ]
    },
    {
      "cell_type": "markdown",
      "id": "d7b9bc42",
      "metadata": {
        "id": "d7b9bc42"
      },
      "source": [
        "#### 47. Given two arrays, X and Y, construct the Cauchy matrix C (Cij =1/(xi - yj)) (★★☆)"
      ]
    },
    {
      "cell_type": "code",
      "execution_count": 55,
      "id": "a24824fb",
      "metadata": {
        "id": "a24824fb",
        "outputId": "3f00d709-cfdb-4161-ed9a-569bee028d62",
        "colab": {
          "base_uri": "https://localhost:8080/"
        }
      },
      "outputs": [
        {
          "output_type": "stream",
          "name": "stdout",
          "text": [
            "17887483823.583435\n"
          ]
        }
      ],
      "source": [
        "A=np.arange(16)\n",
        "B=A+0.8\n",
        "C=1.0/np.subtract.outer(A,B)\n",
        "print(np.linalg.det(C))\n"
      ]
    },
    {
      "cell_type": "markdown",
      "id": "65ebc11b",
      "metadata": {
        "id": "65ebc11b"
      },
      "source": [
        "#### 48. Print the minimum and maximum representable value for each numpy scalar type (★★☆)"
      ]
    },
    {
      "cell_type": "code",
      "execution_count": 56,
      "id": "e45d38fb",
      "metadata": {
        "id": "e45d38fb",
        "outputId": "02a8ff46-3a45-47ff-9930-fc0ae2295e04",
        "colab": {
          "base_uri": "https://localhost:8080/"
        }
      },
      "outputs": [
        {
          "output_type": "stream",
          "name": "stdout",
          "text": [
            "-128\n",
            "127\n",
            "-2147483648\n",
            "2147483647\n",
            "-9223372036854775808\n",
            "9223372036854775807\n",
            "-3.4028235e+38\n",
            "3.4028235e+38\n",
            "1.1920929e-07\n",
            "-1.7976931348623157e+308\n",
            "1.7976931348623157e+308\n",
            "2.220446049250313e-16\n"
          ]
        }
      ],
      "source": [
        "import numpy as np\n",
        "for dtype in[np.int8,np.int32,np.int64]:\n",
        "  print(np.iinfo(dtype).min)\n",
        "  print(np.iinfo(dtype).max)\n",
        "for dtype in[np.float32,float64]:\n",
        "  print(np.finfo(dtype).min)\n",
        "  print(np.finfo(dtype).max)\n",
        "  print(np.finfo(dtype).eps)"
      ]
    },
    {
      "cell_type": "markdown",
      "id": "9b317a98",
      "metadata": {
        "id": "9b317a98"
      },
      "source": [
        "#### 49. How to print all the values of an array? (★★☆)"
      ]
    },
    {
      "cell_type": "code",
      "execution_count": 57,
      "id": "309cdeb9",
      "metadata": {
        "id": "309cdeb9",
        "outputId": "6417e2c9-f894-4646-b4cf-98180c26749a",
        "colab": {
          "base_uri": "https://localhost:8080/"
        }
      },
      "outputs": [
        {
          "output_type": "stream",
          "name": "stdout",
          "text": [
            "[[0. 0. 0. 0. 0. 0. 0. 0. 0. 0. 0. 0. 0. 0. 0. 0. 0. 0. 0. 0. 0. 0. 0. 0.\n",
            "  0. 0. 0. 0. 0. 0.]\n",
            " [0. 0. 0. 0. 0. 0. 0. 0. 0. 0. 0. 0. 0. 0. 0. 0. 0. 0. 0. 0. 0. 0. 0. 0.\n",
            "  0. 0. 0. 0. 0. 0.]\n",
            " [0. 0. 0. 0. 0. 0. 0. 0. 0. 0. 0. 0. 0. 0. 0. 0. 0. 0. 0. 0. 0. 0. 0. 0.\n",
            "  0. 0. 0. 0. 0. 0.]\n",
            " [0. 0. 0. 0. 0. 0. 0. 0. 0. 0. 0. 0. 0. 0. 0. 0. 0. 0. 0. 0. 0. 0. 0. 0.\n",
            "  0. 0. 0. 0. 0. 0.]\n",
            " [0. 0. 0. 0. 0. 0. 0. 0. 0. 0. 0. 0. 0. 0. 0. 0. 0. 0. 0. 0. 0. 0. 0. 0.\n",
            "  0. 0. 0. 0. 0. 0.]\n",
            " [0. 0. 0. 0. 0. 0. 0. 0. 0. 0. 0. 0. 0. 0. 0. 0. 0. 0. 0. 0. 0. 0. 0. 0.\n",
            "  0. 0. 0. 0. 0. 0.]\n",
            " [0. 0. 0. 0. 0. 0. 0. 0. 0. 0. 0. 0. 0. 0. 0. 0. 0. 0. 0. 0. 0. 0. 0. 0.\n",
            "  0. 0. 0. 0. 0. 0.]\n",
            " [0. 0. 0. 0. 0. 0. 0. 0. 0. 0. 0. 0. 0. 0. 0. 0. 0. 0. 0. 0. 0. 0. 0. 0.\n",
            "  0. 0. 0. 0. 0. 0.]\n",
            " [0. 0. 0. 0. 0. 0. 0. 0. 0. 0. 0. 0. 0. 0. 0. 0. 0. 0. 0. 0. 0. 0. 0. 0.\n",
            "  0. 0. 0. 0. 0. 0.]\n",
            " [0. 0. 0. 0. 0. 0. 0. 0. 0. 0. 0. 0. 0. 0. 0. 0. 0. 0. 0. 0. 0. 0. 0. 0.\n",
            "  0. 0. 0. 0. 0. 0.]\n",
            " [0. 0. 0. 0. 0. 0. 0. 0. 0. 0. 0. 0. 0. 0. 0. 0. 0. 0. 0. 0. 0. 0. 0. 0.\n",
            "  0. 0. 0. 0. 0. 0.]\n",
            " [0. 0. 0. 0. 0. 0. 0. 0. 0. 0. 0. 0. 0. 0. 0. 0. 0. 0. 0. 0. 0. 0. 0. 0.\n",
            "  0. 0. 0. 0. 0. 0.]\n",
            " [0. 0. 0. 0. 0. 0. 0. 0. 0. 0. 0. 0. 0. 0. 0. 0. 0. 0. 0. 0. 0. 0. 0. 0.\n",
            "  0. 0. 0. 0. 0. 0.]\n",
            " [0. 0. 0. 0. 0. 0. 0. 0. 0. 0. 0. 0. 0. 0. 0. 0. 0. 0. 0. 0. 0. 0. 0. 0.\n",
            "  0. 0. 0. 0. 0. 0.]\n",
            " [0. 0. 0. 0. 0. 0. 0. 0. 0. 0. 0. 0. 0. 0. 0. 0. 0. 0. 0. 0. 0. 0. 0. 0.\n",
            "  0. 0. 0. 0. 0. 0.]\n",
            " [0. 0. 0. 0. 0. 0. 0. 0. 0. 0. 0. 0. 0. 0. 0. 0. 0. 0. 0. 0. 0. 0. 0. 0.\n",
            "  0. 0. 0. 0. 0. 0.]\n",
            " [0. 0. 0. 0. 0. 0. 0. 0. 0. 0. 0. 0. 0. 0. 0. 0. 0. 0. 0. 0. 0. 0. 0. 0.\n",
            "  0. 0. 0. 0. 0. 0.]\n",
            " [0. 0. 0. 0. 0. 0. 0. 0. 0. 0. 0. 0. 0. 0. 0. 0. 0. 0. 0. 0. 0. 0. 0. 0.\n",
            "  0. 0. 0. 0. 0. 0.]\n",
            " [0. 0. 0. 0. 0. 0. 0. 0. 0. 0. 0. 0. 0. 0. 0. 0. 0. 0. 0. 0. 0. 0. 0. 0.\n",
            "  0. 0. 0. 0. 0. 0.]\n",
            " [0. 0. 0. 0. 0. 0. 0. 0. 0. 0. 0. 0. 0. 0. 0. 0. 0. 0. 0. 0. 0. 0. 0. 0.\n",
            "  0. 0. 0. 0. 0. 0.]\n",
            " [0. 0. 0. 0. 0. 0. 0. 0. 0. 0. 0. 0. 0. 0. 0. 0. 0. 0. 0. 0. 0. 0. 0. 0.\n",
            "  0. 0. 0. 0. 0. 0.]\n",
            " [0. 0. 0. 0. 0. 0. 0. 0. 0. 0. 0. 0. 0. 0. 0. 0. 0. 0. 0. 0. 0. 0. 0. 0.\n",
            "  0. 0. 0. 0. 0. 0.]\n",
            " [0. 0. 0. 0. 0. 0. 0. 0. 0. 0. 0. 0. 0. 0. 0. 0. 0. 0. 0. 0. 0. 0. 0. 0.\n",
            "  0. 0. 0. 0. 0. 0.]\n",
            " [0. 0. 0. 0. 0. 0. 0. 0. 0. 0. 0. 0. 0. 0. 0. 0. 0. 0. 0. 0. 0. 0. 0. 0.\n",
            "  0. 0. 0. 0. 0. 0.]\n",
            " [0. 0. 0. 0. 0. 0. 0. 0. 0. 0. 0. 0. 0. 0. 0. 0. 0. 0. 0. 0. 0. 0. 0. 0.\n",
            "  0. 0. 0. 0. 0. 0.]\n",
            " [0. 0. 0. 0. 0. 0. 0. 0. 0. 0. 0. 0. 0. 0. 0. 0. 0. 0. 0. 0. 0. 0. 0. 0.\n",
            "  0. 0. 0. 0. 0. 0.]\n",
            " [0. 0. 0. 0. 0. 0. 0. 0. 0. 0. 0. 0. 0. 0. 0. 0. 0. 0. 0. 0. 0. 0. 0. 0.\n",
            "  0. 0. 0. 0. 0. 0.]\n",
            " [0. 0. 0. 0. 0. 0. 0. 0. 0. 0. 0. 0. 0. 0. 0. 0. 0. 0. 0. 0. 0. 0. 0. 0.\n",
            "  0. 0. 0. 0. 0. 0.]\n",
            " [0. 0. 0. 0. 0. 0. 0. 0. 0. 0. 0. 0. 0. 0. 0. 0. 0. 0. 0. 0. 0. 0. 0. 0.\n",
            "  0. 0. 0. 0. 0. 0.]\n",
            " [0. 0. 0. 0. 0. 0. 0. 0. 0. 0. 0. 0. 0. 0. 0. 0. 0. 0. 0. 0. 0. 0. 0. 0.\n",
            "  0. 0. 0. 0. 0. 0.]\n",
            " [0. 0. 0. 0. 0. 0. 0. 0. 0. 0. 0. 0. 0. 0. 0. 0. 0. 0. 0. 0. 0. 0. 0. 0.\n",
            "  0. 0. 0. 0. 0. 0.]\n",
            " [0. 0. 0. 0. 0. 0. 0. 0. 0. 0. 0. 0. 0. 0. 0. 0. 0. 0. 0. 0. 0. 0. 0. 0.\n",
            "  0. 0. 0. 0. 0. 0.]\n",
            " [0. 0. 0. 0. 0. 0. 0. 0. 0. 0. 0. 0. 0. 0. 0. 0. 0. 0. 0. 0. 0. 0. 0. 0.\n",
            "  0. 0. 0. 0. 0. 0.]\n",
            " [0. 0. 0. 0. 0. 0. 0. 0. 0. 0. 0. 0. 0. 0. 0. 0. 0. 0. 0. 0. 0. 0. 0. 0.\n",
            "  0. 0. 0. 0. 0. 0.]\n",
            " [0. 0. 0. 0. 0. 0. 0. 0. 0. 0. 0. 0. 0. 0. 0. 0. 0. 0. 0. 0. 0. 0. 0. 0.\n",
            "  0. 0. 0. 0. 0. 0.]\n",
            " [0. 0. 0. 0. 0. 0. 0. 0. 0. 0. 0. 0. 0. 0. 0. 0. 0. 0. 0. 0. 0. 0. 0. 0.\n",
            "  0. 0. 0. 0. 0. 0.]\n",
            " [0. 0. 0. 0. 0. 0. 0. 0. 0. 0. 0. 0. 0. 0. 0. 0. 0. 0. 0. 0. 0. 0. 0. 0.\n",
            "  0. 0. 0. 0. 0. 0.]\n",
            " [0. 0. 0. 0. 0. 0. 0. 0. 0. 0. 0. 0. 0. 0. 0. 0. 0. 0. 0. 0. 0. 0. 0. 0.\n",
            "  0. 0. 0. 0. 0. 0.]\n",
            " [0. 0. 0. 0. 0. 0. 0. 0. 0. 0. 0. 0. 0. 0. 0. 0. 0. 0. 0. 0. 0. 0. 0. 0.\n",
            "  0. 0. 0. 0. 0. 0.]\n",
            " [0. 0. 0. 0. 0. 0. 0. 0. 0. 0. 0. 0. 0. 0. 0. 0. 0. 0. 0. 0. 0. 0. 0. 0.\n",
            "  0. 0. 0. 0. 0. 0.]\n",
            " [0. 0. 0. 0. 0. 0. 0. 0. 0. 0. 0. 0. 0. 0. 0. 0. 0. 0. 0. 0. 0. 0. 0. 0.\n",
            "  0. 0. 0. 0. 0. 0.]\n",
            " [0. 0. 0. 0. 0. 0. 0. 0. 0. 0. 0. 0. 0. 0. 0. 0. 0. 0. 0. 0. 0. 0. 0. 0.\n",
            "  0. 0. 0. 0. 0. 0.]\n",
            " [0. 0. 0. 0. 0. 0. 0. 0. 0. 0. 0. 0. 0. 0. 0. 0. 0. 0. 0. 0. 0. 0. 0. 0.\n",
            "  0. 0. 0. 0. 0. 0.]\n",
            " [0. 0. 0. 0. 0. 0. 0. 0. 0. 0. 0. 0. 0. 0. 0. 0. 0. 0. 0. 0. 0. 0. 0. 0.\n",
            "  0. 0. 0. 0. 0. 0.]\n",
            " [0. 0. 0. 0. 0. 0. 0. 0. 0. 0. 0. 0. 0. 0. 0. 0. 0. 0. 0. 0. 0. 0. 0. 0.\n",
            "  0. 0. 0. 0. 0. 0.]\n",
            " [0. 0. 0. 0. 0. 0. 0. 0. 0. 0. 0. 0. 0. 0. 0. 0. 0. 0. 0. 0. 0. 0. 0. 0.\n",
            "  0. 0. 0. 0. 0. 0.]\n",
            " [0. 0. 0. 0. 0. 0. 0. 0. 0. 0. 0. 0. 0. 0. 0. 0. 0. 0. 0. 0. 0. 0. 0. 0.\n",
            "  0. 0. 0. 0. 0. 0.]\n",
            " [0. 0. 0. 0. 0. 0. 0. 0. 0. 0. 0. 0. 0. 0. 0. 0. 0. 0. 0. 0. 0. 0. 0. 0.\n",
            "  0. 0. 0. 0. 0. 0.]\n",
            " [0. 0. 0. 0. 0. 0. 0. 0. 0. 0. 0. 0. 0. 0. 0. 0. 0. 0. 0. 0. 0. 0. 0. 0.\n",
            "  0. 0. 0. 0. 0. 0.]\n",
            " [0. 0. 0. 0. 0. 0. 0. 0. 0. 0. 0. 0. 0. 0. 0. 0. 0. 0. 0. 0. 0. 0. 0. 0.\n",
            "  0. 0. 0. 0. 0. 0.]\n",
            " [0. 0. 0. 0. 0. 0. 0. 0. 0. 0. 0. 0. 0. 0. 0. 0. 0. 0. 0. 0. 0. 0. 0. 0.\n",
            "  0. 0. 0. 0. 0. 0.]\n",
            " [0. 0. 0. 0. 0. 0. 0. 0. 0. 0. 0. 0. 0. 0. 0. 0. 0. 0. 0. 0. 0. 0. 0. 0.\n",
            "  0. 0. 0. 0. 0. 0.]\n",
            " [0. 0. 0. 0. 0. 0. 0. 0. 0. 0. 0. 0. 0. 0. 0. 0. 0. 0. 0. 0. 0. 0. 0. 0.\n",
            "  0. 0. 0. 0. 0. 0.]\n",
            " [0. 0. 0. 0. 0. 0. 0. 0. 0. 0. 0. 0. 0. 0. 0. 0. 0. 0. 0. 0. 0. 0. 0. 0.\n",
            "  0. 0. 0. 0. 0. 0.]\n",
            " [0. 0. 0. 0. 0. 0. 0. 0. 0. 0. 0. 0. 0. 0. 0. 0. 0. 0. 0. 0. 0. 0. 0. 0.\n",
            "  0. 0. 0. 0. 0. 0.]\n",
            " [0. 0. 0. 0. 0. 0. 0. 0. 0. 0. 0. 0. 0. 0. 0. 0. 0. 0. 0. 0. 0. 0. 0. 0.\n",
            "  0. 0. 0. 0. 0. 0.]\n",
            " [0. 0. 0. 0. 0. 0. 0. 0. 0. 0. 0. 0. 0. 0. 0. 0. 0. 0. 0. 0. 0. 0. 0. 0.\n",
            "  0. 0. 0. 0. 0. 0.]\n",
            " [0. 0. 0. 0. 0. 0. 0. 0. 0. 0. 0. 0. 0. 0. 0. 0. 0. 0. 0. 0. 0. 0. 0. 0.\n",
            "  0. 0. 0. 0. 0. 0.]\n",
            " [0. 0. 0. 0. 0. 0. 0. 0. 0. 0. 0. 0. 0. 0. 0. 0. 0. 0. 0. 0. 0. 0. 0. 0.\n",
            "  0. 0. 0. 0. 0. 0.]\n",
            " [0. 0. 0. 0. 0. 0. 0. 0. 0. 0. 0. 0. 0. 0. 0. 0. 0. 0. 0. 0. 0. 0. 0. 0.\n",
            "  0. 0. 0. 0. 0. 0.]]\n"
          ]
        }
      ],
      "source": [
        "import numpy as np\n",
        "np.set_printoptions(threshold=float(\"inf\"))\n",
        "P=np.zeros((60,30))\n",
        "print(P)\n"
      ]
    },
    {
      "cell_type": "markdown",
      "id": "b580f9d0",
      "metadata": {
        "id": "b580f9d0"
      },
      "source": [
        "#### 50. How to find the closest value (to a given scalar) in a vector? (★★☆)"
      ]
    },
    {
      "cell_type": "code",
      "execution_count": 58,
      "id": "ebfb6714",
      "metadata": {
        "id": "ebfb6714",
        "outputId": "0d9b02ea-4811-4e77-db1c-bc29e3441494",
        "colab": {
          "base_uri": "https://localhost:8080/"
        }
      },
      "outputs": [
        {
          "output_type": "stream",
          "name": "stdout",
          "text": [
            "223\n"
          ]
        }
      ],
      "source": [
        "S=np.arange(350)\n",
        "v=np.random.uniform(0,350)\n",
        "index=(np.abs(S-v)).argmin()\n",
        "print(S[index])"
      ]
    },
    {
      "cell_type": "markdown",
      "id": "602e6252",
      "metadata": {
        "id": "602e6252"
      },
      "source": [
        "#### 51. Create a structured array representing a position (x,y) and a color (r,g,b) (★★☆)"
      ]
    },
    {
      "cell_type": "code",
      "execution_count": 60,
      "id": "cf002b3a",
      "metadata": {
        "id": "cf002b3a",
        "outputId": "9e4392cb-4114-4524-8a5e-ed338f22f0cf",
        "colab": {
          "base_uri": "https://localhost:8080/"
        }
      },
      "outputs": [
        {
          "output_type": "stream",
          "name": "stderr",
          "text": [
            "<ipython-input-60-1257cdfb8a9a>:2: FutureWarning: Passing (type, 1) or '1type' as a synonym of type is deprecated; in a future version of numpy, it will be understood as (type, (1,)) / '(1,)type'.\n",
            "  Z = np.zeros(10, [('position', [('x', float, 1),\n"
          ]
        }
      ],
      "source": [
        "import numpy as np\n",
        "Z = np.zeros(10, [('position', [('x', float, 1),\n",
        "                                 ('y', float, 1)]),\n",
        "                  ('color',    [('r', float, 1),\n",
        "                                 ('g', float, 1),\n",
        "                                 ('b', float, 1)])])\n"
      ]
    },
    {
      "cell_type": "markdown",
      "id": "78bcd92f",
      "metadata": {
        "id": "78bcd92f"
      },
      "source": [
        "#### 52. Consider a random vector with shape (100,2) representing coordinates, find point by point distances (★★☆)"
      ]
    },
    {
      "cell_type": "code",
      "execution_count": 61,
      "id": "fea7f9a6",
      "metadata": {
        "id": "fea7f9a6",
        "outputId": "b549eba6-45b5-42eb-a88b-7f6960625e6f",
        "colab": {
          "base_uri": "https://localhost:8080/"
        }
      },
      "outputs": [
        {
          "output_type": "stream",
          "name": "stdout",
          "text": [
            "[[0.         0.84422855 0.55918627 0.86950158 0.48269772 0.64625358\n",
            "  0.28394924 0.6643643  0.67491194 0.46571276]\n",
            " [0.84422855 0.         0.29662479 0.39462136 0.58257171 0.94151786\n",
            "  0.62089144 0.56137921 0.74936625 0.38356643]\n",
            " [0.55918627 0.29662479 0.         0.39160123 0.32237271 0.6970813\n",
            "  0.38080351 0.37884744 0.54132039 0.14533696]\n",
            " [0.86950158 0.39462136 0.39160123 0.         0.42378314 0.67748357\n",
            "  0.75967326 0.28555701 0.45635678 0.53660597]\n",
            " [0.48269772 0.58257171 0.32237271 0.42378314 0.         0.3748783\n",
            "  0.48625124 0.1816976  0.24876081 0.38306029]\n",
            " [0.64625358 0.94151786 0.6970813  0.67748357 0.3748783  0.\n",
            "  0.78519848 0.39984758 0.22269615 0.74740818]\n",
            " [0.28394924 0.62089144 0.38080351 0.75967326 0.48625124 0.78519848\n",
            "  0.         0.64314048 0.7301473  0.24473142]\n",
            " [0.6643643  0.56137921 0.37884744 0.28555701 0.1816976  0.39984758\n",
            "  0.64314048 0.         0.18948266 0.48818349]\n",
            " [0.67491194 0.74936625 0.54132039 0.45635678 0.24876081 0.22269615\n",
            "  0.7301473  0.18948266 0.         0.62605897]\n",
            " [0.46571276 0.38356643 0.14533696 0.53660597 0.38306029 0.74740818\n",
            "  0.24473142 0.48818349 0.62605897 0.        ]]\n"
          ]
        }
      ],
      "source": [
        "import numpy as np\n",
        "Z=np.random.random((10,2))\n",
        "X,Y=np.atleast_2d(Z[:,0],Z[:,1])\n",
        "D=np.sqrt((X-X.T)**2+(Y-Y.T)**2)\n",
        "print(D)"
      ]
    },
    {
      "cell_type": "markdown",
      "id": "343c5a85",
      "metadata": {
        "id": "343c5a85"
      },
      "source": [
        "#### 53. How to convert a float (32 bits) array into an integer (32 bits) in place?"
      ]
    },
    {
      "cell_type": "code",
      "execution_count": 62,
      "id": "fc1b687b",
      "metadata": {
        "id": "fc1b687b",
        "outputId": "780d5be1-f863-499c-d8d3-d6c0746a66b9",
        "colab": {
          "base_uri": "https://localhost:8080/"
        }
      },
      "outputs": [
        {
          "output_type": "stream",
          "name": "stdout",
          "text": [
            "[ 7 38 10 42 30 77 42  4 44 29]\n"
          ]
        }
      ],
      "source": [
        "z=(np.random.rand(10)*100).astype(np.float32)\n",
        "y=z.view(np.int32)\n",
        "y[:]=z\n",
        "print(y)"
      ]
    },
    {
      "cell_type": "markdown",
      "id": "a69e1ace",
      "metadata": {
        "id": "a69e1ace"
      },
      "source": [
        "#### 54. How to read the following file? (★★☆)\n",
        "```\n",
        "1, 2, 3, 4, 5\n",
        "6,  ,  , 7, 8\n",
        " ,  , 9,10,11\n",
        "```"
      ]
    },
    {
      "cell_type": "code",
      "execution_count": 63,
      "id": "1c7957d4",
      "metadata": {
        "id": "1c7957d4",
        "outputId": "17bb7a7c-562f-4196-decc-fac454dd2f12",
        "colab": {
          "base_uri": "https://localhost:8080/"
        }
      },
      "outputs": [
        {
          "output_type": "stream",
          "name": "stdout",
          "text": [
            "[[ 1  2  3  4  5]\n",
            " [ 6 -1 -1  7  8]\n",
            " [-1 -1  9 10 11]]\n"
          ]
        }
      ],
      "source": [
        "from io import StringIO\n",
        "import numpy as np\n",
        "\n",
        "s = StringIO('''1, 2, 3, 4, 5\n",
        "\n",
        "                6,  ,  , 7, 8\n",
        "\n",
        "                 ,  , 9,10,11\n",
        "''')\n",
        "Z = np.genfromtxt(s, delimiter=\",\", dtype=int)\n",
        "print(Z)"
      ]
    },
    {
      "cell_type": "markdown",
      "id": "c23bd80d",
      "metadata": {
        "id": "c23bd80d"
      },
      "source": [
        "#### 55. What is the equivalent of enumerate for numpy arrays? (★★☆)"
      ]
    },
    {
      "cell_type": "code",
      "execution_count": 64,
      "id": "d95d9578",
      "metadata": {
        "id": "d95d9578",
        "outputId": "c0e79592-d936-4a00-9e91-db98f2025897",
        "colab": {
          "base_uri": "https://localhost:8080/"
        }
      },
      "outputs": [
        {
          "output_type": "stream",
          "name": "stdout",
          "text": [
            "(0, 0) 0\n",
            "(0, 1) 1\n",
            "(0, 2) 2\n",
            "(1, 0) 3\n",
            "(1, 1) 4\n",
            "(1, 2) 5\n",
            "(2, 0) 6\n",
            "(2, 1) 7\n",
            "(2, 2) 8\n",
            "(0, 0) 0\n",
            "(0, 1) 1\n",
            "(0, 2) 2\n",
            "(1, 0) 3\n",
            "(1, 1) 4\n",
            "(1, 2) 5\n",
            "(2, 0) 6\n",
            "(2, 1) 7\n",
            "(2, 2) 8\n"
          ]
        }
      ],
      "source": [
        "A=np.arange(9).reshape(3,3)\n",
        "for index,value in np.ndenumerate(A):\n",
        "  print(index,value)\n",
        "for index in np.ndindex(A.shape):\n",
        "  print(index,A[index])"
      ]
    },
    {
      "cell_type": "markdown",
      "id": "2153a5ec",
      "metadata": {
        "id": "2153a5ec"
      },
      "source": [
        "#### 56. Generate a generic 2D Gaussian-like array (★★☆)"
      ]
    },
    {
      "cell_type": "code",
      "execution_count": 65,
      "id": "61122d1e",
      "metadata": {
        "id": "61122d1e",
        "outputId": "12ab0051-8de7-4b84-b697-d384ad4031aa",
        "colab": {
          "base_uri": "https://localhost:8080/"
        }
      },
      "outputs": [
        {
          "output_type": "stream",
          "name": "stdout",
          "text": [
            "[[0.36787944 0.44822088 0.51979489 0.57375342 0.60279818 0.60279818\n",
            "  0.57375342 0.51979489 0.44822088 0.36787944]\n",
            " [0.44822088 0.54610814 0.63331324 0.69905581 0.73444367 0.73444367\n",
            "  0.69905581 0.63331324 0.54610814 0.44822088]\n",
            " [0.51979489 0.63331324 0.73444367 0.81068432 0.85172308 0.85172308\n",
            "  0.81068432 0.73444367 0.63331324 0.51979489]\n",
            " [0.57375342 0.69905581 0.81068432 0.89483932 0.9401382  0.9401382\n",
            "  0.89483932 0.81068432 0.69905581 0.57375342]\n",
            " [0.60279818 0.73444367 0.85172308 0.9401382  0.98773022 0.98773022\n",
            "  0.9401382  0.85172308 0.73444367 0.60279818]\n",
            " [0.60279818 0.73444367 0.85172308 0.9401382  0.98773022 0.98773022\n",
            "  0.9401382  0.85172308 0.73444367 0.60279818]\n",
            " [0.57375342 0.69905581 0.81068432 0.89483932 0.9401382  0.9401382\n",
            "  0.89483932 0.81068432 0.69905581 0.57375342]\n",
            " [0.51979489 0.63331324 0.73444367 0.81068432 0.85172308 0.85172308\n",
            "  0.81068432 0.73444367 0.63331324 0.51979489]\n",
            " [0.44822088 0.54610814 0.63331324 0.69905581 0.73444367 0.73444367\n",
            "  0.69905581 0.63331324 0.54610814 0.44822088]\n",
            " [0.36787944 0.44822088 0.51979489 0.57375342 0.60279818 0.60279818\n",
            "  0.57375342 0.51979489 0.44822088 0.36787944]]\n"
          ]
        }
      ],
      "source": [
        "x,y=np.meshgrid(np.linspace(-1,1,10),np.linspace(-1,1,10))\n",
        "z=np.sqrt(x*x+y*y)\n",
        "sigma,mu=1.0,0.0\n",
        "g=np.exp(-((z-mu)**2/(2.0*sigma**2)))\n",
        "print(g)"
      ]
    },
    {
      "cell_type": "markdown",
      "id": "2e76d589",
      "metadata": {
        "id": "2e76d589"
      },
      "source": [
        "#### 57. How to randomly place p elements in a 2D array? (★★☆)"
      ]
    },
    {
      "cell_type": "code",
      "execution_count": 66,
      "id": "0c2e4fcc",
      "metadata": {
        "id": "0c2e4fcc",
        "outputId": "7b0b4e87-fb0b-40e9-92c9-3c3424749b7a",
        "colab": {
          "base_uri": "https://localhost:8080/"
        }
      },
      "outputs": [
        {
          "output_type": "stream",
          "name": "stdout",
          "text": [
            "[[0. 0. 0. 0. 0. 0. 0. 0. 0. 0. 0. 0. 0. 0. 0. 0. 0. 0. 0. 0.]\n",
            " [0. 0. 0. 0. 0. 0. 0. 0. 0. 0. 0. 0. 0. 0. 0. 0. 0. 0. 0. 0.]\n",
            " [0. 0. 0. 0. 0. 0. 0. 0. 0. 0. 0. 0. 0. 0. 0. 0. 0. 0. 0. 0.]\n",
            " [0. 0. 0. 0. 0. 1. 0. 0. 0. 0. 0. 0. 0. 1. 0. 0. 0. 0. 0. 0.]\n",
            " [0. 0. 0. 0. 0. 0. 0. 0. 0. 0. 0. 0. 0. 0. 0. 0. 0. 0. 0. 0.]\n",
            " [0. 0. 0. 0. 0. 0. 0. 0. 0. 0. 0. 0. 0. 0. 0. 0. 0. 0. 0. 0.]\n",
            " [0. 0. 0. 0. 0. 0. 0. 0. 0. 0. 0. 0. 0. 0. 0. 0. 0. 0. 0. 0.]\n",
            " [0. 0. 0. 0. 0. 0. 0. 0. 0. 0. 0. 0. 0. 0. 0. 0. 0. 0. 0. 0.]\n",
            " [0. 0. 0. 0. 0. 0. 0. 0. 0. 0. 0. 0. 0. 0. 0. 0. 0. 0. 0. 0.]\n",
            " [0. 0. 0. 0. 0. 0. 0. 0. 0. 0. 0. 0. 0. 0. 0. 0. 0. 0. 0. 0.]\n",
            " [0. 0. 0. 0. 0. 0. 0. 0. 0. 0. 0. 0. 0. 0. 0. 0. 0. 0. 0. 0.]\n",
            " [0. 0. 1. 0. 0. 0. 0. 0. 0. 0. 0. 0. 0. 0. 0. 0. 0. 0. 0. 0.]\n",
            " [0. 0. 0. 0. 0. 0. 0. 0. 0. 0. 0. 0. 0. 0. 0. 0. 0. 0. 0. 0.]\n",
            " [0. 0. 0. 0. 0. 0. 0. 0. 0. 0. 0. 0. 0. 0. 0. 0. 0. 0. 0. 0.]\n",
            " [0. 0. 0. 0. 0. 0. 1. 0. 0. 0. 0. 0. 0. 0. 0. 0. 0. 0. 0. 0.]\n",
            " [0. 0. 0. 0. 0. 0. 0. 0. 0. 0. 0. 0. 0. 0. 0. 0. 0. 0. 0. 0.]\n",
            " [0. 0. 0. 0. 0. 0. 0. 0. 0. 0. 0. 0. 0. 0. 0. 0. 0. 0. 0. 0.]\n",
            " [0. 0. 0. 0. 0. 0. 0. 0. 0. 0. 0. 0. 0. 0. 1. 0. 0. 0. 0. 0.]\n",
            " [0. 0. 0. 0. 0. 0. 0. 0. 0. 0. 0. 0. 0. 0. 0. 0. 0. 0. 0. 0.]\n",
            " [0. 0. 0. 0. 0. 0. 0. 0. 0. 0. 0. 0. 0. 0. 0. 0. 0. 0. 0. 0.]]\n"
          ]
        }
      ],
      "source": [
        "n=20\n",
        "p=5\n",
        "z=np.zeros((n,n))\n",
        "np.put(z,np.random.choice(range(n*n),p,replace=False),1)\n",
        "print(z)"
      ]
    },
    {
      "cell_type": "markdown",
      "id": "8b3933eb",
      "metadata": {
        "id": "8b3933eb"
      },
      "source": [
        "#### 58. Subtract the mean of each row of a matrix (★★☆)"
      ]
    },
    {
      "cell_type": "code",
      "execution_count": 67,
      "id": "a306c9ef",
      "metadata": {
        "id": "a306c9ef",
        "outputId": "971e75ed-ebc2-45f7-ce97-895fbf460e76",
        "colab": {
          "base_uri": "https://localhost:8080/"
        }
      },
      "outputs": [
        {
          "output_type": "stream",
          "name": "stdout",
          "text": [
            "[[ 0.13724867 -0.00669626 -0.1307011   0.06678894 -0.07247598 -0.339634\n",
            "   0.02968395  0.3291438   0.18380543 -0.19716346]\n",
            " [-0.21391318 -0.10027622 -0.46301226  0.187419   -0.08786854 -0.01022614\n",
            "   0.42418293 -0.05716363 -0.13975706  0.4606151 ]\n",
            " [ 0.56803913 -0.16130022  0.38501903 -0.00533483 -0.07742749 -0.24872918\n",
            "  -0.27318909 -0.18125216 -0.03026581  0.02444063]\n",
            " [-0.1728545   0.21114202  0.13091504 -0.31963345 -0.05945193  0.01040119\n",
            "   0.36344585  0.03605726  0.2487837  -0.44880517]\n",
            " [-0.39033575  0.28595804  0.02380134  0.07630491 -0.32185651 -0.1659521\n",
            "  -0.15105017  0.37921621 -0.11473827  0.37865228]]\n",
            "[[ 0.13724867 -0.00669626 -0.1307011   0.06678894 -0.07247598 -0.339634\n",
            "   0.02968395  0.3291438   0.18380543 -0.19716346]\n",
            " [-0.21391318 -0.10027622 -0.46301226  0.187419   -0.08786854 -0.01022614\n",
            "   0.42418293 -0.05716363 -0.13975706  0.4606151 ]\n",
            " [ 0.56803913 -0.16130022  0.38501903 -0.00533483 -0.07742749 -0.24872918\n",
            "  -0.27318909 -0.18125216 -0.03026581  0.02444063]\n",
            " [-0.1728545   0.21114202  0.13091504 -0.31963345 -0.05945193  0.01040119\n",
            "   0.36344585  0.03605726  0.2487837  -0.44880517]\n",
            " [-0.39033575  0.28595804  0.02380134  0.07630491 -0.32185651 -0.1659521\n",
            "  -0.15105017  0.37921621 -0.11473827  0.37865228]]\n"
          ]
        }
      ],
      "source": [
        "x=np.random.rand(5,10)\n",
        "y=x-x.mean(axis=1,keepdims=True)\n",
        "print(y)\n",
        "y=x-x.mean(axis=1).reshape(-1,1)\n",
        "print(y)"
      ]
    },
    {
      "cell_type": "markdown",
      "id": "ea8807c0",
      "metadata": {
        "id": "ea8807c0"
      },
      "source": [
        "#### 59. How to sort an array by the nth column? (★★☆)"
      ]
    },
    {
      "cell_type": "code",
      "execution_count": 68,
      "id": "cc89a699",
      "metadata": {
        "id": "cc89a699",
        "outputId": "e4c1dd25-6a20-468c-a6db-18e6efa2aaeb",
        "colab": {
          "base_uri": "https://localhost:8080/"
        }
      },
      "outputs": [
        {
          "output_type": "stream",
          "name": "stdout",
          "text": [
            "[[ 5 10  4  4]\n",
            " [ 2 13 18  2]\n",
            " [18 10 15  6]\n",
            " [19 14  3  9]]\n",
            "[[ 5 10  4  4]\n",
            " [18 10 15  6]\n",
            " [ 2 13 18  2]\n",
            " [19 14  3  9]]\n"
          ]
        }
      ],
      "source": [
        "z=np.random.randint(0,20,(4,4))\n",
        "print(z)\n",
        "print(z[z[:,1].argsort()])"
      ]
    },
    {
      "cell_type": "markdown",
      "id": "00fa00a1",
      "metadata": {
        "id": "00fa00a1"
      },
      "source": [
        "#### 60. How to tell if a given 2D array has null columns? (★★☆)"
      ]
    },
    {
      "cell_type": "code",
      "execution_count": 69,
      "id": "3436e165",
      "metadata": {
        "id": "3436e165",
        "outputId": "fb20e524-ca85-457e-8118-3925ddfc170b",
        "colab": {
          "base_uri": "https://localhost:8080/"
        }
      },
      "outputs": [
        {
          "output_type": "stream",
          "name": "stdout",
          "text": [
            "True\n",
            "[[False False  True]\n",
            " [False False  True]\n",
            " [False False  True]]\n",
            "[False False  True]\n"
          ]
        }
      ],
      "source": [
        "x=np.random.randint(0,3,(3,10))\n",
        "print((~x.any(axis=0)).any())\n",
        "x=np.array([[0,1,np.nan],[1,2,np.nan],[4,5,np.nan]])\n",
        "print(np.isnan(x))\n",
        "print(np.isnan(x).all(axis=0))"
      ]
    },
    {
      "cell_type": "markdown",
      "id": "5a65c7a2",
      "metadata": {
        "id": "5a65c7a2"
      },
      "source": [
        "#### 61. Find the nearest value from a given value in an array (★★☆)"
      ]
    },
    {
      "cell_type": "code",
      "execution_count": 70,
      "id": "73f149d6",
      "metadata": {
        "id": "73f149d6",
        "outputId": "a520e670-5abe-4eee-87f5-da0c5e72fdfd",
        "colab": {
          "base_uri": "https://localhost:8080/"
        }
      },
      "outputs": [
        {
          "output_type": "stream",
          "name": "stdout",
          "text": [
            "0.5021659813171024\n"
          ]
        }
      ],
      "source": [
        "import numpy as np\n",
        "Z=np.random.uniform(0,1,20)\n",
        "z=0.5\n",
        "m=Z.flat[np.abs(Z-z).argmin()]\n",
        "print(m)"
      ]
    },
    {
      "cell_type": "markdown",
      "id": "dd83e8af",
      "metadata": {
        "id": "dd83e8af"
      },
      "source": [
        "#### 62. Considering two arrays with shape (1,3) and (3,1), how to compute their sum using an iterator? (★★☆)"
      ]
    },
    {
      "cell_type": "code",
      "execution_count": 71,
      "id": "29a709a1",
      "metadata": {
        "id": "29a709a1",
        "outputId": "e98f75c4-b575-4ea0-dafd-9d865104c946",
        "colab": {
          "base_uri": "https://localhost:8080/"
        }
      },
      "outputs": [
        {
          "output_type": "stream",
          "name": "stdout",
          "text": [
            "[[0 1 2]\n",
            " [1 2 3]\n",
            " [2 3 4]]\n"
          ]
        }
      ],
      "source": [
        "A=np.arange(3).reshape(3,1)\n",
        "B=np.arange(3).reshape(1,3)\n",
        "it=np.nditer([A,B,None])\n",
        "for x,y,z in it:z[...]=x+y\n",
        "print(it.operands[2])"
      ]
    },
    {
      "cell_type": "markdown",
      "id": "6c042efa",
      "metadata": {
        "id": "6c042efa"
      },
      "source": [
        "#### 63. Create an array class that has a name attribute (★★☆)"
      ]
    },
    {
      "cell_type": "code",
      "execution_count": 72,
      "id": "45b3d2e0",
      "metadata": {
        "id": "45b3d2e0",
        "outputId": "26b8c97d-b788-4868-ded9-65a013ad7384",
        "colab": {
          "base_uri": "https://localhost:8080/"
        }
      },
      "outputs": [
        {
          "output_type": "stream",
          "name": "stdout",
          "text": [
            "range_10\n"
          ]
        }
      ],
      "source": [
        "class NamedArray(np.ndarray):\n",
        "  def __new__(cls,array,name=\"no name\"):\n",
        "    obj=np.asarray(array).view(cls)\n",
        "    obj.name=name\n",
        "    return obj\n",
        "  def __array_finalize__(self,obj):\n",
        "    if obj is None: return\n",
        "    self.info=getattr(obj,'name',\"no name\")\n",
        "Z=NamedArray(np.arange(10),'range_10')\n",
        "print(Z.name)"
      ]
    },
    {
      "cell_type": "markdown",
      "id": "0a075c3d",
      "metadata": {
        "id": "0a075c3d"
      },
      "source": [
        "#### 64. Consider a given vector, how to add 1 to each element indexed by a second vector (be careful with repeated indices)? (★★★)"
      ]
    },
    {
      "cell_type": "code",
      "execution_count": 73,
      "id": "36c50470",
      "metadata": {
        "id": "36c50470",
        "outputId": "b6c111dc-1801-4c98-c06e-23d27b44fe62",
        "colab": {
          "base_uri": "https://localhost:8080/"
        }
      },
      "outputs": [
        {
          "output_type": "stream",
          "name": "stdout",
          "text": [
            "[4. 2. 1. 1. 4. 2. 3. 1. 2. 1. 3. 3. 3. 7. 2. 2. 3. 2. 2. 2.]\n",
            "[ 7.  3.  1.  1.  7.  3.  5.  1.  3.  1.  5.  5.  5. 13.  3.  3.  5.  3.\n",
            "  3.  3.]\n"
          ]
        }
      ],
      "source": [
        "Z=np.ones(20)\n",
        "I=np.random.randint(0,len(Z),30)\n",
        "Z+=np.bincount(I,minlength=len(Z))\n",
        "print(Z)\n",
        "np.add.at(Z,I,1)\n",
        "print(Z)"
      ]
    },
    {
      "cell_type": "markdown",
      "id": "0fb2f0c5",
      "metadata": {
        "id": "0fb2f0c5"
      },
      "source": [
        "#### 65. How to accumulate elements of a vector (X) to an array (F) based on an index list (I)? (★★★)"
      ]
    },
    {
      "cell_type": "code",
      "execution_count": 74,
      "id": "58aa5f82",
      "metadata": {
        "id": "58aa5f82",
        "outputId": "8ea53345-32d5-4f88-8b11-a19f17d88abe",
        "colab": {
          "base_uri": "https://localhost:8080/"
        }
      },
      "outputs": [
        {
          "output_type": "stream",
          "name": "stdout",
          "text": [
            "[0. 1. 3. 9. 6. 7. 8.]\n"
          ]
        }
      ],
      "source": [
        "X=[6,5,4,3,2,1]\n",
        "Y=[8,7,6,9,3,1]\n",
        "Z=np.bincount(X,Y)\n",
        "print(Z)"
      ]
    },
    {
      "cell_type": "markdown",
      "id": "d89dc506",
      "metadata": {
        "id": "d89dc506"
      },
      "source": [
        "#### 66. Considering a (w,h,3) image of (dtype=ubyte), compute the number of unique colors (★★☆)"
      ]
    },
    {
      "cell_type": "code",
      "execution_count": 75,
      "id": "8fb43a49",
      "metadata": {
        "id": "8fb43a49",
        "outputId": "584df97e-0774-4dc7-fd02-7db9080de4d9",
        "colab": {
          "base_uri": "https://localhost:8080/"
        }
      },
      "outputs": [
        {
          "output_type": "stream",
          "name": "stdout",
          "text": [
            "64\n",
            "64\n"
          ]
        }
      ],
      "source": [
        "w, h = 256, 256\n",
        "I = np.random.randint(0, 4, (h, w, 3)).astype(np.ubyte)\n",
        "colors = np.unique(I.reshape(-1, 3), axis=0)\n",
        "n = len(colors)\n",
        "print(n)\n",
        "\n",
        "w, h = 256, 256\n",
        "I = np.random.randint(0,4,(h,w,3), dtype=np.uint8)\n",
        "\n",
        "I24 = np.dot(I.astype(np.uint32),[1,256,65536])\n",
        "\n",
        "n = len(np.unique(I24))\n",
        "print(n)"
      ]
    },
    {
      "cell_type": "markdown",
      "id": "535a5d81",
      "metadata": {
        "id": "535a5d81"
      },
      "source": [
        "#### 67. Considering a four dimensions array, how to get sum over the last two axis at once? (★★★)"
      ]
    },
    {
      "cell_type": "code",
      "execution_count": 76,
      "id": "f954ab9d",
      "metadata": {
        "id": "f954ab9d",
        "outputId": "849f81d7-979d-4e44-e902-5c9b13ec8288",
        "colab": {
          "base_uri": "https://localhost:8080/"
        }
      },
      "outputs": [
        {
          "output_type": "stream",
          "name": "stdout",
          "text": [
            "[[52 52 60 43]\n",
            " [61 57 82 67]\n",
            " [50 67 55 61]]\n",
            "[[52 52 60 43]\n",
            " [61 57 82 67]\n",
            " [50 67 55 61]]\n"
          ]
        }
      ],
      "source": [
        "A = np.random.randint(0,10,(3,4,3,4))\n",
        "sum = A.sum(axis=(-2,-1))\n",
        "print(sum)\n",
        "sum = A.reshape(A.shape[:-2] + (-1,)).sum(axis=-1)\n",
        "print(sum)"
      ]
    },
    {
      "cell_type": "markdown",
      "id": "eee66d3c",
      "metadata": {
        "id": "eee66d3c"
      },
      "source": [
        "#### 68. Considering a one-dimensional vector D, how to compute means of subsets of D using a vector S of same size describing subset  indices? (★★★)"
      ]
    },
    {
      "cell_type": "code",
      "execution_count": 77,
      "id": "8929773a",
      "metadata": {
        "id": "8929773a",
        "outputId": "96b79fe0-71a9-43b3-8c33-d07a16643aff",
        "colab": {
          "base_uri": "https://localhost:8080/"
        }
      },
      "outputs": [
        {
          "output_type": "stream",
          "name": "stdout",
          "text": [
            "[0.55033534 0.57659363 0.51515439 0.53497003 0.58440919 0.77358259\n",
            " 0.39377231 0.63904877 0.5482009  0.40071273]\n",
            "0    0.550335\n",
            "1    0.576594\n",
            "2    0.515154\n",
            "3    0.534970\n",
            "4    0.584409\n",
            "5    0.773583\n",
            "6    0.393772\n",
            "7    0.639049\n",
            "8    0.548201\n",
            "9    0.400713\n",
            "dtype: float64\n"
          ]
        }
      ],
      "source": [
        "D = np.random.uniform(0,1,100)\n",
        "S = np.random.randint(0,10,100)\n",
        "D_sums = np.bincount(S, weights=D)\n",
        "D_counts = np.bincount(S)\n",
        "D_means = D_sums / D_counts\n",
        "print(D_means)\n",
        "import pandas as pd\n",
        "print(pd.Series(D).groupby(S).mean())"
      ]
    },
    {
      "cell_type": "markdown",
      "id": "f90d4c40",
      "metadata": {
        "id": "f90d4c40"
      },
      "source": [
        "#### 69. How to get the diagonal of a dot product? (★★★)"
      ]
    },
    {
      "cell_type": "code",
      "execution_count": 78,
      "id": "b47d392d",
      "metadata": {
        "id": "b47d392d",
        "outputId": "a62918fb-e1da-4c1c-9a50-cb08976fcb40",
        "colab": {
          "base_uri": "https://localhost:8080/"
        }
      },
      "outputs": [
        {
          "output_type": "execute_result",
          "data": {
            "text/plain": [
              "array([1.78696121, 2.02795435, 1.43763579, 0.74698422, 1.25007603])"
            ]
          },
          "metadata": {},
          "execution_count": 78
        }
      ],
      "source": [
        "A = np.random.uniform(0,1,(5,5))\n",
        "B = np.random.uniform(0,1,(5,5))\n",
        "\n",
        "np.diag(np.dot(A, B))\n",
        "\n",
        "np.sum(A * B.T, axis=1)\n",
        "\n",
        "np.einsum(\"ij,ji->i\", A, B)"
      ]
    },
    {
      "cell_type": "markdown",
      "id": "a8a97e7d",
      "metadata": {
        "id": "a8a97e7d"
      },
      "source": [
        "#### 70. Consider the vector [1, 2, 3, 4, 5], how to build a new vector with 3 consecutive zeros interleaved between each value? (★★★)"
      ]
    },
    {
      "cell_type": "code",
      "execution_count": 79,
      "id": "ee6c6c37",
      "metadata": {
        "id": "ee6c6c37",
        "outputId": "357e0a78-95eb-4aab-c636-39f5fa376bc1",
        "colab": {
          "base_uri": "https://localhost:8080/"
        }
      },
      "outputs": [
        {
          "output_type": "stream",
          "name": "stdout",
          "text": [
            "[1. 0. 0. 0. 2. 0. 0. 0. 3. 0. 0. 0. 4. 0. 0. 0. 5.]\n"
          ]
        }
      ],
      "source": [
        "Z = np.array([1,2,3,4,5])\n",
        "nz = 3\n",
        "Z0 = np.zeros(len(Z) + (len(Z)-1)*(nz))\n",
        "Z0[::nz+1] = Z\n",
        "print(Z0)"
      ]
    },
    {
      "cell_type": "markdown",
      "id": "d6a30d60",
      "metadata": {
        "id": "d6a30d60"
      },
      "source": [
        "#### 71. Consider an array of dimension (5,5,3), how to mulitply it by an array with dimensions (5,5)? (★★★)"
      ]
    },
    {
      "cell_type": "code",
      "execution_count": 80,
      "id": "e9703f2e",
      "metadata": {
        "id": "e9703f2e",
        "outputId": "cf7da935-0cbd-4881-9a50-a8ae01c30f10",
        "colab": {
          "base_uri": "https://localhost:8080/"
        }
      },
      "outputs": [
        {
          "output_type": "stream",
          "name": "stdout",
          "text": [
            "[[[2. 2. 2.]\n",
            "  [2. 2. 2.]\n",
            "  [2. 2. 2.]\n",
            "  [2. 2. 2.]\n",
            "  [2. 2. 2.]]\n",
            "\n",
            " [[2. 2. 2.]\n",
            "  [2. 2. 2.]\n",
            "  [2. 2. 2.]\n",
            "  [2. 2. 2.]\n",
            "  [2. 2. 2.]]\n",
            "\n",
            " [[2. 2. 2.]\n",
            "  [2. 2. 2.]\n",
            "  [2. 2. 2.]\n",
            "  [2. 2. 2.]\n",
            "  [2. 2. 2.]]\n",
            "\n",
            " [[2. 2. 2.]\n",
            "  [2. 2. 2.]\n",
            "  [2. 2. 2.]\n",
            "  [2. 2. 2.]\n",
            "  [2. 2. 2.]]\n",
            "\n",
            " [[2. 2. 2.]\n",
            "  [2. 2. 2.]\n",
            "  [2. 2. 2.]\n",
            "  [2. 2. 2.]\n",
            "  [2. 2. 2.]]]\n"
          ]
        }
      ],
      "source": [
        "A = np.ones((5,5,3))\n",
        "B = 2*np.ones((5,5))\n",
        "print(A * B[:,:,None])"
      ]
    },
    {
      "cell_type": "markdown",
      "id": "bac359a9",
      "metadata": {
        "id": "bac359a9"
      },
      "source": [
        "#### 72. How to swap two rows of an array? (★★★)"
      ]
    },
    {
      "cell_type": "code",
      "execution_count": 81,
      "id": "f1b432b1",
      "metadata": {
        "id": "f1b432b1",
        "outputId": "4977350a-f880-480a-8240-821c09f7eeab",
        "colab": {
          "base_uri": "https://localhost:8080/"
        }
      },
      "outputs": [
        {
          "output_type": "stream",
          "name": "stdout",
          "text": [
            "[[ 5  6  7  8  9]\n",
            " [ 0  1  2  3  4]\n",
            " [10 11 12 13 14]\n",
            " [15 16 17 18 19]\n",
            " [20 21 22 23 24]]\n"
          ]
        }
      ],
      "source": [
        "A = np.arange(25).reshape(5,5)\n",
        "A[[0,1]] = A[[1,0]]\n",
        "print(A)"
      ]
    },
    {
      "cell_type": "markdown",
      "id": "620c9f83",
      "metadata": {
        "id": "620c9f83"
      },
      "source": [
        "#### 73. Consider a set of 10 triplets describing 10 triangles (with shared vertices), find the set of unique line segments composing all the  triangles (★★★)"
      ]
    },
    {
      "cell_type": "code",
      "execution_count": 82,
      "id": "4e595ffc",
      "metadata": {
        "id": "4e595ffc",
        "outputId": "5cb92f86-759a-4655-ed20-7be8616d318b",
        "colab": {
          "base_uri": "https://localhost:8080/"
        }
      },
      "outputs": [
        {
          "output_type": "stream",
          "name": "stdout",
          "text": [
            "[( 1,  2) ( 1, 14) ( 2, 11) ( 2, 14) ( 2, 32) ( 4, 13) ( 4, 81) ( 9, 57)\n",
            " ( 9, 78) (10, 12) (10, 65) (11, 32) (11, 55) (11, 68) (12, 65) (13, 81)\n",
            " (31, 35) (31, 36) (35, 36) (38, 73) (38, 78) (55, 68) (57, 78) (73, 78)\n",
            " (80, 96) (80, 98) (89, 89) (89, 97) (96, 98)]\n"
          ]
        }
      ],
      "source": [
        "faces = np.random.randint(0,100,(10,3))\n",
        "F = np.roll(faces.repeat(2,axis=1),-1,axis=1)\n",
        "F = F.reshape(len(F)*3,2)\n",
        "F = np.sort(F,axis=1)\n",
        "G = F.view( dtype=[('p0',F.dtype),('p1',F.dtype)] )\n",
        "G = np.unique(G)\n",
        "print(G)"
      ]
    },
    {
      "cell_type": "markdown",
      "id": "a76c55a2",
      "metadata": {
        "id": "a76c55a2"
      },
      "source": [
        "#### 74. Given a sorted array C that corresponds to a bincount, how to produce an array A such that np.bincount(A) == C? (★★★)"
      ]
    },
    {
      "cell_type": "code",
      "execution_count": 83,
      "id": "2d2ae65a",
      "metadata": {
        "id": "2d2ae65a",
        "outputId": "7057c7a2-c252-425e-ccab-a690a3c4380a",
        "colab": {
          "base_uri": "https://localhost:8080/"
        }
      },
      "outputs": [
        {
          "output_type": "stream",
          "name": "stdout",
          "text": [
            "[1 1 2 3 4 4 6]\n"
          ]
        }
      ],
      "source": [
        "C = np.bincount([1,1,2,3,4,4,6])\n",
        "A = np.repeat(np.arange(len(C)), C)\n",
        "print(A)"
      ]
    },
    {
      "cell_type": "markdown",
      "id": "d550c8e2",
      "metadata": {
        "id": "d550c8e2"
      },
      "source": [
        "#### 75. How to compute averages using a sliding window over an array? (★★★)"
      ]
    },
    {
      "cell_type": "code",
      "execution_count": 84,
      "id": "841c457c",
      "metadata": {
        "id": "841c457c",
        "outputId": "d38de61f-e95d-4371-f0b5-d94b295b39e0",
        "colab": {
          "base_uri": "https://localhost:8080/"
        }
      },
      "outputs": [
        {
          "output_type": "stream",
          "name": "stdout",
          "text": [
            "[ 1.  2.  3.  4.  5.  6.  7.  8.  9. 10. 11. 12. 13. 14. 15. 16. 17. 18.]\n",
            "[ 1.  2.  3.  4.  5.  6.  7.  8.  9. 10. 11. 12. 13. 14. 15. 16. 17. 18.]\n"
          ]
        }
      ],
      "source": [
        "def moving_average(a, n=3) :\n",
        "    ret = np.cumsum(a, dtype=float)\n",
        "    ret[n:] = ret[n:] - ret[:-n]\n",
        "    return ret[n - 1:] / n\n",
        "Z = np.arange(20)\n",
        "print(moving_average(Z, n=3))\n",
        "from numpy.lib.stride_tricks import sliding_window_view\n",
        "Z = np.arange(20)\n",
        "print(sliding_window_view(Z, window_shape=3).mean(axis=-1))"
      ]
    },
    {
      "cell_type": "markdown",
      "id": "6b170b00",
      "metadata": {
        "id": "6b170b00"
      },
      "source": [
        "#### 76. Consider a one-dimensional array Z, build a two-dimensional array whose first row is (Z[0],Z[1],Z[2]) and each subsequent row is  shifted by 1 (last row should be (Z[-3],Z[-2],Z[-1]) (★★★)"
      ]
    },
    {
      "cell_type": "code",
      "execution_count": 85,
      "id": "d9a0cf4e",
      "metadata": {
        "id": "d9a0cf4e",
        "outputId": "eb49d950-11e6-4208-cd88-12c420022776",
        "colab": {
          "base_uri": "https://localhost:8080/"
        }
      },
      "outputs": [
        {
          "output_type": "stream",
          "name": "stdout",
          "text": [
            "[[0 1 2]\n",
            " [1 2 3]\n",
            " [2 3 4]\n",
            " [3 4 5]\n",
            " [4 5 6]\n",
            " [5 6 7]\n",
            " [6 7 8]\n",
            " [7 8 9]]\n",
            "[[0 1 2]\n",
            " [1 2 3]\n",
            " [2 3 4]\n",
            " [3 4 5]\n",
            " [4 5 6]\n",
            " [5 6 7]\n",
            " [6 7 8]\n",
            " [7 8 9]]\n"
          ]
        }
      ],
      "source": [
        "from numpy.lib import stride_tricks\n",
        "\n",
        "def rolling(a, window):\n",
        "    shape = (a.size - window + 1, window)\n",
        "    strides = (a.strides[0], a.strides[0])\n",
        "    return stride_tricks.as_strided(a, shape=shape, strides=strides)\n",
        "Z = rolling(np.arange(10), 3)\n",
        "print(Z)\n",
        "Z = np.arange(10)\n",
        "print(sliding_window_view(Z, window_shape=3))"
      ]
    },
    {
      "cell_type": "markdown",
      "id": "e94a5c1d",
      "metadata": {
        "id": "e94a5c1d"
      },
      "source": [
        "#### 77. How to negate a boolean, or to change the sign of a float inplace? (★★★)"
      ]
    },
    {
      "cell_type": "code",
      "execution_count": 86,
      "id": "c0f9504f",
      "metadata": {
        "id": "c0f9504f",
        "outputId": "b98ab3e9-7140-40ef-a242-ab200ac81b55",
        "colab": {
          "base_uri": "https://localhost:8080/"
        }
      },
      "outputs": [
        {
          "output_type": "execute_result",
          "data": {
            "text/plain": [
              "array([-0.04027775,  0.99355246, -0.64150905,  0.04622541,  0.73452357,\n",
              "       -0.52992345,  0.86837692, -0.11672246, -0.13710673, -0.84352797,\n",
              "       -0.38497173,  0.46038084, -0.53521599,  0.1961914 ,  0.02071024,\n",
              "       -0.67746566,  0.98995664,  0.25549762,  0.74398699,  0.72218014,\n",
              "       -0.86009063,  0.29162077, -0.30870691, -0.32174055,  0.83673859,\n",
              "        0.67640987,  0.28140307, -0.02022839, -0.39992641,  0.62900731,\n",
              "        0.93328222, -0.77290439,  0.67135671,  0.52161516,  0.62754786,\n",
              "       -0.14164915,  0.82099626, -0.5730935 , -0.19678886,  0.63302518,\n",
              "       -0.96691466,  0.58321747, -0.35305028, -0.48916962, -0.32468794,\n",
              "        0.61937666,  0.55889814,  0.73323645,  0.72630253, -0.40684803,\n",
              "        0.38823049,  0.66480377,  0.61194423,  0.87348715, -0.26531464,\n",
              "       -0.49919202, -0.8852871 , -0.91076012, -0.59583273,  0.33419185,\n",
              "        0.01352648,  0.61011958,  0.32147568, -0.8351607 , -0.38294919,\n",
              "       -0.48055499,  0.74498136,  0.94406196, -0.08271505,  0.02382068,\n",
              "        0.66754733,  0.94318482,  0.14768616, -0.00180944, -0.00881803,\n",
              "       -0.152995  ,  0.83542555, -0.67696257,  0.0970346 ,  0.0082688 ,\n",
              "        0.98402526, -0.24330856,  0.00532548,  0.34644504, -0.06283948,\n",
              "        0.9201903 ,  0.52138379, -0.20665419,  0.93703428, -0.39232516,\n",
              "        0.49024789,  0.46478525, -0.61724098, -0.74896255,  0.62445968,\n",
              "       -0.64481067, -0.88602123, -0.09923056,  0.08870448, -0.34530745])"
            ]
          },
          "metadata": {},
          "execution_count": 86
        }
      ],
      "source": [
        "Z = np.random.randint(0,2,100)\n",
        "np.logical_not(Z, out=Z)\n",
        "\n",
        "Z = np.random.uniform(-1.0,1.0,100)\n",
        "np.negative(Z, out=Z)"
      ]
    },
    {
      "cell_type": "markdown",
      "id": "4eb8b5c1",
      "metadata": {
        "id": "4eb8b5c1"
      },
      "source": [
        "#### 78. Consider 2 sets of points P0,P1 describing lines (2d) and a point p, how to compute distance from p to each line i (P0[i],P1[i])? (★★★)"
      ]
    },
    {
      "cell_type": "code",
      "execution_count": 87,
      "id": "487f47ec",
      "metadata": {
        "id": "487f47ec",
        "outputId": "d28e5015-f087-4012-c880-36611b21afbd",
        "colab": {
          "base_uri": "https://localhost:8080/"
        }
      },
      "outputs": [
        {
          "output_type": "stream",
          "name": "stdout",
          "text": [
            "[ 5.35715356  4.2613452   3.25368621  4.14290063  1.0155018   6.29139959\n",
            " 12.04215966  6.38372547  2.03166744  2.28320299]\n"
          ]
        }
      ],
      "source": [
        "def distance(P0, P1, p):\n",
        "    T = P1 - P0\n",
        "    L = (T**2).sum(axis=1)\n",
        "    U = -((P0[:,0]-p[...,0])*T[:,0] + (P0[:,1]-p[...,1])*T[:,1]) / L\n",
        "    U = U.reshape(len(U),1)\n",
        "    D = P0 + U*T - p\n",
        "    return np.sqrt((D**2).sum(axis=1))\n",
        "\n",
        "P0 = np.random.uniform(-10,10,(10,2))\n",
        "P1 = np.random.uniform(-10,10,(10,2))\n",
        "p  = np.random.uniform(-10,10,( 1,2))\n",
        "print(distance(P0, P1, p))"
      ]
    },
    {
      "cell_type": "markdown",
      "id": "3df99948",
      "metadata": {
        "id": "3df99948"
      },
      "source": [
        "#### 79. Consider 2 sets of points P0,P1 describing lines (2d) and a set of points P, how to compute distance from each point j (P[j]) to each line i (P0[i],P1[i])? (★★★)"
      ]
    },
    {
      "cell_type": "code",
      "execution_count": 88,
      "id": "dc2df37b",
      "metadata": {
        "id": "dc2df37b",
        "outputId": "adc0c4c1-dace-44a9-b42b-dc0aca6f5300",
        "colab": {
          "base_uri": "https://localhost:8080/"
        }
      },
      "outputs": [
        {
          "output_type": "stream",
          "name": "stdout",
          "text": [
            "[[ 8.0589988  15.88237521  8.90470594  0.09895069  3.50450765  9.71006838\n",
            "  13.74777398  1.35517438  7.25388761 18.50240082]\n",
            " [ 8.6327419   1.67307152  8.9728002   5.78012492  7.40566465 15.6969193\n",
            "   3.92775257 12.87598757  3.66425957  0.38253571]\n",
            " [ 4.30833339 10.48706524  4.39551788  2.39536144  4.33185001  7.30143018\n",
            "   8.4345094   0.80952167  2.70810504 15.18258458]\n",
            " [ 5.65141524  5.85049301 10.06138437  8.31021614  5.08677808  1.65670879\n",
            "   7.09654157  2.55367465  9.9360623   3.87593406]\n",
            " [ 7.34049151 11.14805313  3.47057908  0.92561386  1.00862833 10.63161176\n",
            "  10.11267432  2.27288208  5.3283142  13.28124729]\n",
            " [ 7.95796754  2.82959013  5.0061137  12.07855876 10.14213116  2.19335104\n",
            "   5.88107338  3.14606503 10.92495709  9.68810844]\n",
            " [10.6117727  11.1448394   1.58805471  4.76099059  3.09045829 14.49210925\n",
            "  11.41658099  6.28039554  7.95099923 10.34244467]\n",
            " [ 2.55978424  5.63118642 11.56593799  4.76384311  1.37227903  5.22210862\n",
            "   5.70699593  6.12941005  7.39403831  1.37400375]\n",
            " [ 3.45345428  1.87086641 10.37520765  0.95873798  3.46129086 10.91101038\n",
            "   0.64661397  9.9101186   1.4996354   0.63822858]\n",
            " [ 9.44047382 16.21515556  8.52235745  1.60086403  2.01310779 11.21550553\n",
            "  14.53472781  0.01907857  8.45669002 17.67532463]]\n"
          ]
        }
      ],
      "source": [
        "P0 = np.random.uniform(-10, 10, (10,2))\n",
        "P1 = np.random.uniform(-10,10,(10,2))\n",
        "p = np.random.uniform(-10, 10, (10,2))\n",
        "print(np.array([distance(P0,P1,p_i) for p_i in p]))"
      ]
    },
    {
      "cell_type": "markdown",
      "id": "11e972c2",
      "metadata": {
        "id": "11e972c2"
      },
      "source": [
        "#### 80. Consider an arbitrary array, write a function that extract a subpart with a fixed shape and centered on a given element (pad with a `fill` value when necessary) (★★★)"
      ]
    },
    {
      "cell_type": "code",
      "execution_count": 89,
      "id": "0291247f",
      "metadata": {
        "id": "0291247f",
        "outputId": "b06ee784-92d8-4f5a-f1c5-1781302f871e",
        "colab": {
          "base_uri": "https://localhost:8080/"
        }
      },
      "outputs": [
        {
          "output_type": "stream",
          "name": "stdout",
          "text": [
            "[[4 1 7 2 7 9 8 9 1 6]\n",
            " [0 3 7 4 7 1 7 5 2 2]\n",
            " [6 1 3 2 6 2 9 2 0 5]\n",
            " [2 7 4 4 9 1 8 5 2 0]\n",
            " [5 6 4 1 8 2 3 4 4 3]\n",
            " [1 3 0 9 2 9 9 1 0 2]\n",
            " [5 8 1 8 0 5 6 5 4 2]\n",
            " [1 6 3 8 6 9 8 6 6 4]\n",
            " [7 0 9 2 1 9 6 7 6 6]\n",
            " [9 5 7 3 6 5 8 6 2 1]]\n",
            "[[0 0 0 0 0]\n",
            " [0 4 1 7 2]\n",
            " [0 0 3 7 4]\n",
            " [0 6 1 3 2]\n",
            " [0 2 7 4 4]]\n"
          ]
        }
      ],
      "source": [
        "import numpy as np\n",
        "Z = np.random.randint(0,10,(10,10))\n",
        "shape = (5,5)\n",
        "fill  = 0\n",
        "position = (1,1)\n",
        "\n",
        "R = np.ones(shape, dtype=Z.dtype)*fill\n",
        "P  = np.array(list(position)).astype(int)\n",
        "Rs = np.array(list(R.shape)).astype(int)\n",
        "Zs = np.array(list(Z.shape)).astype(int)\n",
        "\n",
        "R_start = np.zeros((len(shape),)).astype(int)\n",
        "R_stop  = np.array(list(shape)).astype(int)\n",
        "Z_start = (P-Rs//2)\n",
        "Z_stop  = (P+Rs//2)+Rs%2\n",
        "\n",
        "R_start = (R_start - np.minimum(Z_start,0)).tolist()\n",
        "Z_start = (np.maximum(Z_start,0)).tolist()\n",
        "R_stop = np.maximum(R_start, (R_stop - np.maximum(Z_stop-Zs,0))).tolist()\n",
        "Z_stop = (np.minimum(Z_stop,Zs)).tolist()\n",
        "\n",
        "# Create a tuple of slice objects instead of a list\n",
        "r = tuple(slice(start,stop) for start,stop in zip(R_start,R_stop))\n",
        "z = tuple(slice(start,stop) for start,stop in zip(Z_start,Z_stop))\n",
        "\n",
        "# Index the arrays using the tuple of slices\n",
        "R[r] = Z[z]\n",
        "print(Z)\n",
        "print(R)"
      ]
    },
    {
      "cell_type": "markdown",
      "id": "93cfeab3",
      "metadata": {
        "id": "93cfeab3"
      },
      "source": [
        "#### 81. Consider an array Z = [1,2,3,4,5,6,7,8,9,10,11,12,13,14], how to generate an array R = [[1,2,3,4], [2,3,4,5], [3,4,5,6], ..., [11,12,13,14]]? (★★★)"
      ]
    },
    {
      "cell_type": "code",
      "execution_count": 90,
      "id": "360de791",
      "metadata": {
        "id": "360de791",
        "outputId": "af8a1406-c6b9-48ff-ce81-47f08c65ceaf",
        "colab": {
          "base_uri": "https://localhost:8080/"
        }
      },
      "outputs": [
        {
          "output_type": "stream",
          "name": "stdout",
          "text": [
            "[[ 1  2  3  4]\n",
            " [ 2  3  4  5]\n",
            " [ 3  4  5  6]\n",
            " [ 4  5  6  7]\n",
            " [ 5  6  7  8]\n",
            " [ 6  7  8  9]\n",
            " [ 7  8  9 10]\n",
            " [ 8  9 10 11]\n",
            " [ 9 10 11 12]\n",
            " [10 11 12 13]\n",
            " [11 12 13 14]]\n",
            "[[ 1  2  3  4]\n",
            " [ 2  3  4  5]\n",
            " [ 3  4  5  6]\n",
            " [ 4  5  6  7]\n",
            " [ 5  6  7  8]\n",
            " [ 6  7  8  9]\n",
            " [ 7  8  9 10]\n",
            " [ 8  9 10 11]\n",
            " [ 9 10 11 12]\n",
            " [10 11 12 13]\n",
            " [11 12 13 14]]\n"
          ]
        }
      ],
      "source": [
        "Z = np.arange(1,15,dtype=np.uint32)\n",
        "R = stride_tricks.as_strided(Z,(11,4),(4,4))\n",
        "print(R)\n",
        "Z = np.arange(1, 15, dtype=np.uint32)\n",
        "print(sliding_window_view(Z, window_shape=4))"
      ]
    },
    {
      "cell_type": "markdown",
      "id": "4c15ceff",
      "metadata": {
        "id": "4c15ceff"
      },
      "source": [
        "#### 82. Compute a matrix rank (★★★)"
      ]
    },
    {
      "cell_type": "code",
      "execution_count": 91,
      "id": "9a4272d2",
      "metadata": {
        "id": "9a4272d2",
        "outputId": "18bf8f9d-313a-474a-d072-a34e617883b8",
        "colab": {
          "base_uri": "https://localhost:8080/"
        }
      },
      "outputs": [
        {
          "output_type": "stream",
          "name": "stdout",
          "text": [
            "10\n",
            "10\n"
          ]
        }
      ],
      "source": [
        "Z = np.random.uniform(0,1,(10,10))\n",
        "U, S, V = np.linalg.svd(Z)\n",
        "rank = np.sum(S > 1e-10)\n",
        "print(rank)\n",
        "rank = np.linalg.matrix_rank(Z)\n",
        "print(rank)"
      ]
    },
    {
      "cell_type": "markdown",
      "id": "1171cb84",
      "metadata": {
        "id": "1171cb84"
      },
      "source": [
        "#### 83. How to find the most frequent value in an array?"
      ]
    },
    {
      "cell_type": "code",
      "execution_count": 92,
      "id": "33e951c8",
      "metadata": {
        "id": "33e951c8",
        "outputId": "56e5acf2-24fc-4cc6-8490-05c78403a42c",
        "colab": {
          "base_uri": "https://localhost:8080/"
        }
      },
      "outputs": [
        {
          "output_type": "stream",
          "name": "stdout",
          "text": [
            "2\n"
          ]
        }
      ],
      "source": [
        "Z = np.random.randint(0,10,50)\n",
        "print(np.bincount(Z).argmax())"
      ]
    },
    {
      "cell_type": "markdown",
      "id": "04f472aa",
      "metadata": {
        "id": "04f472aa"
      },
      "source": [
        "#### 84. Extract all the contiguous 3x3 blocks from a random 10x10 matrix (★★★)"
      ]
    },
    {
      "cell_type": "code",
      "execution_count": 93,
      "id": "7aade14a",
      "metadata": {
        "id": "7aade14a",
        "outputId": "cb45a5a9-f67f-4dae-e3ea-d3184615b657",
        "colab": {
          "base_uri": "https://localhost:8080/"
        }
      },
      "outputs": [
        {
          "output_type": "stream",
          "name": "stdout",
          "text": [
            "[[[[2 2 1]\n",
            "   [3 1 4]\n",
            "   [4 3 1]]\n",
            "\n",
            "  [[2 1 3]\n",
            "   [1 4 3]\n",
            "   [3 1 3]]\n",
            "\n",
            "  [[1 3 0]\n",
            "   [4 3 2]\n",
            "   [1 3 0]]\n",
            "\n",
            "  [[3 0 0]\n",
            "   [3 2 0]\n",
            "   [3 0 0]]\n",
            "\n",
            "  [[0 0 3]\n",
            "   [2 0 4]\n",
            "   [0 0 3]]\n",
            "\n",
            "  [[0 3 3]\n",
            "   [0 4 1]\n",
            "   [0 3 3]]\n",
            "\n",
            "  [[3 3 2]\n",
            "   [4 1 2]\n",
            "   [3 3 0]]\n",
            "\n",
            "  [[3 2 0]\n",
            "   [1 2 1]\n",
            "   [3 0 2]]]\n",
            "\n",
            "\n",
            " [[[3 1 4]\n",
            "   [4 3 1]\n",
            "   [2 4 4]]\n",
            "\n",
            "  [[1 4 3]\n",
            "   [3 1 3]\n",
            "   [4 4 4]]\n",
            "\n",
            "  [[4 3 2]\n",
            "   [1 3 0]\n",
            "   [4 4 1]]\n",
            "\n",
            "  [[3 2 0]\n",
            "   [3 0 0]\n",
            "   [4 1 4]]\n",
            "\n",
            "  [[2 0 4]\n",
            "   [0 0 3]\n",
            "   [1 4 3]]\n",
            "\n",
            "  [[0 4 1]\n",
            "   [0 3 3]\n",
            "   [4 3 1]]\n",
            "\n",
            "  [[4 1 2]\n",
            "   [3 3 0]\n",
            "   [3 1 1]]\n",
            "\n",
            "  [[1 2 1]\n",
            "   [3 0 2]\n",
            "   [1 1 1]]]\n",
            "\n",
            "\n",
            " [[[4 3 1]\n",
            "   [2 4 4]\n",
            "   [4 4 2]]\n",
            "\n",
            "  [[3 1 3]\n",
            "   [4 4 4]\n",
            "   [4 2 3]]\n",
            "\n",
            "  [[1 3 0]\n",
            "   [4 4 1]\n",
            "   [2 3 1]]\n",
            "\n",
            "  [[3 0 0]\n",
            "   [4 1 4]\n",
            "   [3 1 2]]\n",
            "\n",
            "  [[0 0 3]\n",
            "   [1 4 3]\n",
            "   [1 2 4]]\n",
            "\n",
            "  [[0 3 3]\n",
            "   [4 3 1]\n",
            "   [2 4 3]]\n",
            "\n",
            "  [[3 3 0]\n",
            "   [3 1 1]\n",
            "   [4 3 4]]\n",
            "\n",
            "  [[3 0 2]\n",
            "   [1 1 1]\n",
            "   [3 4 0]]]\n",
            "\n",
            "\n",
            " [[[2 4 4]\n",
            "   [4 4 2]\n",
            "   [3 0 4]]\n",
            "\n",
            "  [[4 4 4]\n",
            "   [4 2 3]\n",
            "   [0 4 2]]\n",
            "\n",
            "  [[4 4 1]\n",
            "   [2 3 1]\n",
            "   [4 2 2]]\n",
            "\n",
            "  [[4 1 4]\n",
            "   [3 1 2]\n",
            "   [2 2 3]]\n",
            "\n",
            "  [[1 4 3]\n",
            "   [1 2 4]\n",
            "   [2 3 2]]\n",
            "\n",
            "  [[4 3 1]\n",
            "   [2 4 3]\n",
            "   [3 2 1]]\n",
            "\n",
            "  [[3 1 1]\n",
            "   [4 3 4]\n",
            "   [2 1 4]]\n",
            "\n",
            "  [[1 1 1]\n",
            "   [3 4 0]\n",
            "   [1 4 0]]]\n",
            "\n",
            "\n",
            " [[[4 4 2]\n",
            "   [3 0 4]\n",
            "   [1 4 4]]\n",
            "\n",
            "  [[4 2 3]\n",
            "   [0 4 2]\n",
            "   [4 4 1]]\n",
            "\n",
            "  [[2 3 1]\n",
            "   [4 2 2]\n",
            "   [4 1 0]]\n",
            "\n",
            "  [[3 1 2]\n",
            "   [2 2 3]\n",
            "   [1 0 2]]\n",
            "\n",
            "  [[1 2 4]\n",
            "   [2 3 2]\n",
            "   [0 2 1]]\n",
            "\n",
            "  [[2 4 3]\n",
            "   [3 2 1]\n",
            "   [2 1 2]]\n",
            "\n",
            "  [[4 3 4]\n",
            "   [2 1 4]\n",
            "   [1 2 3]]\n",
            "\n",
            "  [[3 4 0]\n",
            "   [1 4 0]\n",
            "   [2 3 0]]]\n",
            "\n",
            "\n",
            " [[[3 0 4]\n",
            "   [1 4 4]\n",
            "   [2 1 3]]\n",
            "\n",
            "  [[0 4 2]\n",
            "   [4 4 1]\n",
            "   [1 3 0]]\n",
            "\n",
            "  [[4 2 2]\n",
            "   [4 1 0]\n",
            "   [3 0 4]]\n",
            "\n",
            "  [[2 2 3]\n",
            "   [1 0 2]\n",
            "   [0 4 4]]\n",
            "\n",
            "  [[2 3 2]\n",
            "   [0 2 1]\n",
            "   [4 4 4]]\n",
            "\n",
            "  [[3 2 1]\n",
            "   [2 1 2]\n",
            "   [4 4 2]]\n",
            "\n",
            "  [[2 1 4]\n",
            "   [1 2 3]\n",
            "   [4 2 4]]\n",
            "\n",
            "  [[1 4 0]\n",
            "   [2 3 0]\n",
            "   [2 4 4]]]\n",
            "\n",
            "\n",
            " [[[1 4 4]\n",
            "   [2 1 3]\n",
            "   [0 0 1]]\n",
            "\n",
            "  [[4 4 1]\n",
            "   [1 3 0]\n",
            "   [0 1 3]]\n",
            "\n",
            "  [[4 1 0]\n",
            "   [3 0 4]\n",
            "   [1 3 3]]\n",
            "\n",
            "  [[1 0 2]\n",
            "   [0 4 4]\n",
            "   [3 3 0]]\n",
            "\n",
            "  [[0 2 1]\n",
            "   [4 4 4]\n",
            "   [3 0 1]]\n",
            "\n",
            "  [[2 1 2]\n",
            "   [4 4 2]\n",
            "   [0 1 3]]\n",
            "\n",
            "  [[1 2 3]\n",
            "   [4 2 4]\n",
            "   [1 3 2]]\n",
            "\n",
            "  [[2 3 0]\n",
            "   [2 4 4]\n",
            "   [3 2 1]]]\n",
            "\n",
            "\n",
            " [[[2 1 3]\n",
            "   [0 0 1]\n",
            "   [2 4 3]]\n",
            "\n",
            "  [[1 3 0]\n",
            "   [0 1 3]\n",
            "   [4 3 3]]\n",
            "\n",
            "  [[3 0 4]\n",
            "   [1 3 3]\n",
            "   [3 3 2]]\n",
            "\n",
            "  [[0 4 4]\n",
            "   [3 3 0]\n",
            "   [3 2 2]]\n",
            "\n",
            "  [[4 4 4]\n",
            "   [3 0 1]\n",
            "   [2 2 3]]\n",
            "\n",
            "  [[4 4 2]\n",
            "   [0 1 3]\n",
            "   [2 3 3]]\n",
            "\n",
            "  [[4 2 4]\n",
            "   [1 3 2]\n",
            "   [3 3 0]]\n",
            "\n",
            "  [[2 4 4]\n",
            "   [3 2 1]\n",
            "   [3 0 1]]]]\n",
            "[[[[0 4 2]\n",
            "   [2 0 1]\n",
            "   [3 0 1]]\n",
            "\n",
            "  [[4 2 2]\n",
            "   [0 1 3]\n",
            "   [0 1 3]]\n",
            "\n",
            "  [[2 2 1]\n",
            "   [1 3 1]\n",
            "   [1 3 4]]\n",
            "\n",
            "  [[2 1 2]\n",
            "   [3 1 1]\n",
            "   [3 4 1]]\n",
            "\n",
            "  [[1 2 3]\n",
            "   [1 1 3]\n",
            "   [4 1 4]]\n",
            "\n",
            "  [[2 3 1]\n",
            "   [1 3 2]\n",
            "   [1 4 1]]\n",
            "\n",
            "  [[3 1 3]\n",
            "   [3 2 0]\n",
            "   [4 1 1]]\n",
            "\n",
            "  [[1 3 1]\n",
            "   [2 0 0]\n",
            "   [1 1 2]]]\n",
            "\n",
            "\n",
            " [[[2 0 1]\n",
            "   [3 0 1]\n",
            "   [0 4 0]]\n",
            "\n",
            "  [[0 1 3]\n",
            "   [0 1 3]\n",
            "   [4 0 1]]\n",
            "\n",
            "  [[1 3 1]\n",
            "   [1 3 4]\n",
            "   [0 1 3]]\n",
            "\n",
            "  [[3 1 1]\n",
            "   [3 4 1]\n",
            "   [1 3 0]]\n",
            "\n",
            "  [[1 1 3]\n",
            "   [4 1 4]\n",
            "   [3 0 3]]\n",
            "\n",
            "  [[1 3 2]\n",
            "   [1 4 1]\n",
            "   [0 3 4]]\n",
            "\n",
            "  [[3 2 0]\n",
            "   [4 1 1]\n",
            "   [3 4 2]]\n",
            "\n",
            "  [[2 0 0]\n",
            "   [1 1 2]\n",
            "   [4 2 4]]]\n",
            "\n",
            "\n",
            " [[[3 0 1]\n",
            "   [0 4 0]\n",
            "   [2 4 1]]\n",
            "\n",
            "  [[0 1 3]\n",
            "   [4 0 1]\n",
            "   [4 1 2]]\n",
            "\n",
            "  [[1 3 4]\n",
            "   [0 1 3]\n",
            "   [1 2 0]]\n",
            "\n",
            "  [[3 4 1]\n",
            "   [1 3 0]\n",
            "   [2 0 1]]\n",
            "\n",
            "  [[4 1 4]\n",
            "   [3 0 3]\n",
            "   [0 1 4]]\n",
            "\n",
            "  [[1 4 1]\n",
            "   [0 3 4]\n",
            "   [1 4 1]]\n",
            "\n",
            "  [[4 1 1]\n",
            "   [3 4 2]\n",
            "   [4 1 4]]\n",
            "\n",
            "  [[1 1 2]\n",
            "   [4 2 4]\n",
            "   [1 4 3]]]\n",
            "\n",
            "\n",
            " [[[0 4 0]\n",
            "   [2 4 1]\n",
            "   [1 1 2]]\n",
            "\n",
            "  [[4 0 1]\n",
            "   [4 1 2]\n",
            "   [1 2 1]]\n",
            "\n",
            "  [[0 1 3]\n",
            "   [1 2 0]\n",
            "   [2 1 4]]\n",
            "\n",
            "  [[1 3 0]\n",
            "   [2 0 1]\n",
            "   [1 4 3]]\n",
            "\n",
            "  [[3 0 3]\n",
            "   [0 1 4]\n",
            "   [4 3 2]]\n",
            "\n",
            "  [[0 3 4]\n",
            "   [1 4 1]\n",
            "   [3 2 4]]\n",
            "\n",
            "  [[3 4 2]\n",
            "   [4 1 4]\n",
            "   [2 4 3]]\n",
            "\n",
            "  [[4 2 4]\n",
            "   [1 4 3]\n",
            "   [4 3 2]]]\n",
            "\n",
            "\n",
            " [[[2 4 1]\n",
            "   [1 1 2]\n",
            "   [2 2 0]]\n",
            "\n",
            "  [[4 1 2]\n",
            "   [1 2 1]\n",
            "   [2 0 0]]\n",
            "\n",
            "  [[1 2 0]\n",
            "   [2 1 4]\n",
            "   [0 0 0]]\n",
            "\n",
            "  [[2 0 1]\n",
            "   [1 4 3]\n",
            "   [0 0 2]]\n",
            "\n",
            "  [[0 1 4]\n",
            "   [4 3 2]\n",
            "   [0 2 3]]\n",
            "\n",
            "  [[1 4 1]\n",
            "   [3 2 4]\n",
            "   [2 3 3]]\n",
            "\n",
            "  [[4 1 4]\n",
            "   [2 4 3]\n",
            "   [3 3 4]]\n",
            "\n",
            "  [[1 4 3]\n",
            "   [4 3 2]\n",
            "   [3 4 0]]]\n",
            "\n",
            "\n",
            " [[[1 1 2]\n",
            "   [2 2 0]\n",
            "   [1 2 1]]\n",
            "\n",
            "  [[1 2 1]\n",
            "   [2 0 0]\n",
            "   [2 1 0]]\n",
            "\n",
            "  [[2 1 4]\n",
            "   [0 0 0]\n",
            "   [1 0 4]]\n",
            "\n",
            "  [[1 4 3]\n",
            "   [0 0 2]\n",
            "   [0 4 0]]\n",
            "\n",
            "  [[4 3 2]\n",
            "   [0 2 3]\n",
            "   [4 0 3]]\n",
            "\n",
            "  [[3 2 4]\n",
            "   [2 3 3]\n",
            "   [0 3 0]]\n",
            "\n",
            "  [[2 4 3]\n",
            "   [3 3 4]\n",
            "   [3 0 0]]\n",
            "\n",
            "  [[4 3 2]\n",
            "   [3 4 0]\n",
            "   [0 0 0]]]\n",
            "\n",
            "\n",
            " [[[2 2 0]\n",
            "   [1 2 1]\n",
            "   [1 3 0]]\n",
            "\n",
            "  [[2 0 0]\n",
            "   [2 1 0]\n",
            "   [3 0 0]]\n",
            "\n",
            "  [[0 0 0]\n",
            "   [1 0 4]\n",
            "   [0 0 0]]\n",
            "\n",
            "  [[0 0 2]\n",
            "   [0 4 0]\n",
            "   [0 0 3]]\n",
            "\n",
            "  [[0 2 3]\n",
            "   [4 0 3]\n",
            "   [0 3 1]]\n",
            "\n",
            "  [[2 3 3]\n",
            "   [0 3 0]\n",
            "   [3 1 4]]\n",
            "\n",
            "  [[3 3 4]\n",
            "   [3 0 0]\n",
            "   [1 4 0]]\n",
            "\n",
            "  [[3 4 0]\n",
            "   [0 0 0]\n",
            "   [4 0 2]]]\n",
            "\n",
            "\n",
            " [[[1 2 1]\n",
            "   [1 3 0]\n",
            "   [3 4 1]]\n",
            "\n",
            "  [[2 1 0]\n",
            "   [3 0 0]\n",
            "   [4 1 0]]\n",
            "\n",
            "  [[1 0 4]\n",
            "   [0 0 0]\n",
            "   [1 0 2]]\n",
            "\n",
            "  [[0 4 0]\n",
            "   [0 0 3]\n",
            "   [0 2 0]]\n",
            "\n",
            "  [[4 0 3]\n",
            "   [0 3 1]\n",
            "   [2 0 2]]\n",
            "\n",
            "  [[0 3 0]\n",
            "   [3 1 4]\n",
            "   [0 2 2]]\n",
            "\n",
            "  [[3 0 0]\n",
            "   [1 4 0]\n",
            "   [2 2 2]]\n",
            "\n",
            "  [[0 0 0]\n",
            "   [4 0 2]\n",
            "   [2 2 3]]]]\n"
          ]
        }
      ],
      "source": [
        "Z = np.random.randint(0,5,(10,10))\n",
        "n = 3\n",
        "i = 1 + (Z.shape[0]-3)\n",
        "j = 1 + (Z.shape[1]-3)\n",
        "C = stride_tricks.as_strided(Z, shape=(i, j, n, n), strides=Z.strides + Z.strides)\n",
        "print(C)\n",
        "Z = np.random.randint(0,5,(10,10))\n",
        "print(sliding_window_view(Z, window_shape=(3, 3)))"
      ]
    },
    {
      "cell_type": "markdown",
      "id": "52836346",
      "metadata": {
        "id": "52836346"
      },
      "source": [
        "#### 85. Create a 2D array subclass such that Z[i,j] == Z[j,i] (★★★)"
      ]
    },
    {
      "cell_type": "code",
      "execution_count": 94,
      "id": "4df70318",
      "metadata": {
        "id": "4df70318",
        "outputId": "32a041f8-b5bb-491c-de1c-e69cf0174bba",
        "colab": {
          "base_uri": "https://localhost:8080/"
        }
      },
      "outputs": [
        {
          "output_type": "stream",
          "name": "stdout",
          "text": [
            "[[ 5  5  4 10  7]\n",
            " [ 5  7  6 14  6]\n",
            " [ 4  6  2 42  6]\n",
            " [10 14 42  6  7]\n",
            " [ 7  6  6  7  8]]\n"
          ]
        }
      ],
      "source": [
        "class Symetric(np.ndarray):\n",
        "    def __setitem__(self, index, value):\n",
        "        i,j = index\n",
        "        super(Symetric, self).__setitem__((i,j), value)\n",
        "        super(Symetric, self).__setitem__((j,i), value)\n",
        "\n",
        "def symetric(Z):\n",
        "    return np.asarray(Z + Z.T - np.diag(Z.diagonal())).view(Symetric)\n",
        "\n",
        "S = symetric(np.random.randint(0,10,(5,5)))\n",
        "S[2,3] = 42\n",
        "print(S)"
      ]
    },
    {
      "cell_type": "markdown",
      "id": "78c43ee5",
      "metadata": {
        "id": "78c43ee5"
      },
      "source": [
        "#### 86. Consider a set of p matrices with shape (n,n) and a set of p vectors with shape (n,1). How to compute the sum of of the p matrix products at once? (result has shape (n,1)) (★★★)"
      ]
    },
    {
      "cell_type": "code",
      "execution_count": 95,
      "id": "32fd2c3b",
      "metadata": {
        "id": "32fd2c3b",
        "outputId": "b692d6b4-9e23-4df1-ce8f-49c514037a35",
        "colab": {
          "base_uri": "https://localhost:8080/"
        }
      },
      "outputs": [
        {
          "output_type": "stream",
          "name": "stdout",
          "text": [
            "[[200.]\n",
            " [200.]\n",
            " [200.]\n",
            " [200.]\n",
            " [200.]\n",
            " [200.]\n",
            " [200.]\n",
            " [200.]\n",
            " [200.]\n",
            " [200.]\n",
            " [200.]\n",
            " [200.]\n",
            " [200.]\n",
            " [200.]\n",
            " [200.]\n",
            " [200.]\n",
            " [200.]\n",
            " [200.]\n",
            " [200.]\n",
            " [200.]]\n"
          ]
        }
      ],
      "source": [
        "p, n = 10, 20\n",
        "M = np.ones((p,n,n))\n",
        "V = np.ones((p,n,1))\n",
        "S = np.tensordot(M, V, axes=[[0, 2], [0, 1]])\n",
        "print(S)"
      ]
    },
    {
      "cell_type": "markdown",
      "id": "158f9945",
      "metadata": {
        "id": "158f9945"
      },
      "source": [
        "#### 87. Consider a 16x16 array, how to get the block-sum (block size is 4x4)? (★★★)"
      ]
    },
    {
      "cell_type": "code",
      "execution_count": 96,
      "id": "5a9b808f",
      "metadata": {
        "id": "5a9b808f",
        "outputId": "99f275b2-8063-4341-a0ff-551cc9a32355",
        "colab": {
          "base_uri": "https://localhost:8080/"
        }
      },
      "outputs": [
        {
          "output_type": "stream",
          "name": "stdout",
          "text": [
            "[[16. 16. 16. 16.]\n",
            " [16. 16. 16. 16.]\n",
            " [16. 16. 16. 16.]\n",
            " [16. 16. 16. 16.]]\n",
            "[[16. 16. 16. 16.]\n",
            " [16. 16. 16. 16.]\n",
            " [16. 16. 16. 16.]\n",
            " [16. 16. 16. 16.]]\n"
          ]
        }
      ],
      "source": [
        "Z = np.ones((16,16))\n",
        "k = 4\n",
        "S = np.add.reduceat(np.add.reduceat(Z, np.arange(0, Z.shape[0], k), axis=0),\n",
        "                                       np.arange(0, Z.shape[1], k), axis=1)\n",
        "print(S)\n",
        "Z = np.ones((16,16))\n",
        "k = 4\n",
        "\n",
        "windows = np.lib.stride_tricks.sliding_window_view(Z, (k, k))\n",
        "S = windows[::k, ::k, ...].sum(axis=(-2, -1))\n",
        "\n",
        "Z = np.ones((16, 16))\n",
        "k = 4\n",
        "print(sliding_window_view(Z, window_shape=(k, k))[::k, ::k].sum(axis=(-2, -1)))"
      ]
    },
    {
      "cell_type": "markdown",
      "id": "2e0ad860",
      "metadata": {
        "id": "2e0ad860"
      },
      "source": [
        "#### 88. How to implement the Game of Life using numpy arrays? (★★★)"
      ]
    },
    {
      "cell_type": "code",
      "execution_count": 97,
      "id": "574acff5",
      "metadata": {
        "id": "574acff5",
        "outputId": "57e17713-3db6-4d45-879c-b7124328f286",
        "colab": {
          "base_uri": "https://localhost:8080/"
        }
      },
      "outputs": [
        {
          "output_type": "stream",
          "name": "stdout",
          "text": [
            "[[0 0 0 0 0 0 0 0 0 0 0 0 0 0 0 0 0 0 0 0 0 0 0 0 0 0 0 0 0 0 0 0 0 0 0 0\n",
            "  0 0 0 0 0 0 0 0 0 0 0 0 0 0]\n",
            " [0 0 0 0 0 0 0 0 0 0 0 0 0 0 0 0 0 0 0 0 0 0 0 0 0 0 0 0 0 0 0 0 0 0 0 0\n",
            "  0 0 0 0 0 0 0 0 0 0 0 0 0 0]\n",
            " [0 0 0 0 0 0 0 0 0 0 0 0 0 1 1 0 0 0 0 0 0 0 0 0 0 0 0 0 0 0 0 0 0 0 0 0\n",
            "  0 0 0 0 0 0 0 0 0 0 0 0 0 0]\n",
            " [0 0 0 0 0 0 1 0 0 0 0 0 0 1 0 1 0 0 0 0 0 0 0 0 0 0 0 0 0 0 0 0 0 0 0 0\n",
            "  0 0 0 0 0 0 0 0 0 0 0 0 0 0]\n",
            " [0 0 0 0 0 1 0 1 0 0 0 0 0 0 1 0 0 0 0 0 0 0 0 0 0 0 0 1 0 0 0 0 0 0 0 0\n",
            "  0 0 0 0 0 0 0 0 0 0 0 0 0 0]\n",
            " [0 0 0 0 0 1 0 1 0 0 0 0 0 0 0 0 0 0 0 0 0 0 0 0 0 0 0 1 0 0 0 0 0 0 0 0\n",
            "  0 0 0 0 1 1 0 0 0 0 0 0 0 0]\n",
            " [0 0 0 0 0 0 1 0 0 0 0 0 0 0 0 0 0 0 0 0 0 0 0 0 0 0 0 1 0 0 0 0 0 0 0 0\n",
            "  0 0 0 0 1 1 0 0 0 0 0 0 0 0]\n",
            " [0 0 0 0 0 0 0 0 0 0 0 0 0 0 0 0 0 0 0 0 0 0 0 0 0 0 0 0 0 0 0 0 0 0 0 0\n",
            "  0 0 0 0 0 0 0 0 0 0 0 0 0 0]\n",
            " [0 0 0 0 0 0 0 0 0 0 0 0 0 0 0 0 0 0 0 0 0 0 0 1 1 1 0 0 0 1 1 1 0 1 1 1\n",
            "  0 0 0 0 0 0 0 0 0 0 0 0 0 0]\n",
            " [0 0 0 0 0 0 0 0 0 0 0 0 0 0 0 0 0 0 0 0 0 0 0 0 0 0 0 0 0 0 0 0 0 0 0 0\n",
            "  0 0 0 0 0 0 0 0 0 0 0 0 0 0]\n",
            " [0 0 0 0 0 0 0 0 0 0 0 0 0 0 0 0 0 0 0 0 0 0 0 0 0 0 0 1 0 0 0 0 0 0 0 0\n",
            "  0 0 0 0 0 0 0 0 0 0 0 0 0 0]\n",
            " [0 0 0 0 0 0 0 0 0 0 0 0 0 0 0 0 0 0 0 0 0 0 0 0 0 0 0 1 0 0 0 0 0 0 0 0\n",
            "  0 0 0 0 0 0 0 0 0 0 0 0 0 0]\n",
            " [0 0 0 0 0 0 0 0 0 0 0 0 0 0 0 0 0 0 0 0 0 0 0 0 0 0 0 1 0 0 0 0 0 0 0 0\n",
            "  0 0 0 0 0 0 0 0 0 0 0 0 0 0]\n",
            " [0 0 0 0 0 0 0 0 0 0 0 0 0 0 0 0 0 0 0 0 0 0 0 0 0 0 0 0 0 0 0 0 0 0 0 0\n",
            "  0 0 0 0 0 0 0 0 0 0 0 0 0 0]\n",
            " [0 0 0 0 0 0 0 0 0 0 0 0 0 0 0 0 0 0 0 0 0 0 0 0 0 0 0 0 0 0 0 0 0 0 0 0\n",
            "  0 0 0 0 0 0 0 0 0 0 0 0 0 0]\n",
            " [0 0 0 0 0 0 0 0 0 0 0 0 0 0 0 0 0 0 0 0 0 0 0 0 0 0 0 0 0 0 0 0 1 1 1 0\n",
            "  0 0 0 0 0 0 0 0 0 0 0 0 0 0]\n",
            " [0 0 0 0 0 0 0 0 0 0 0 0 0 0 0 0 0 0 1 1 0 0 0 0 0 0 0 0 0 0 0 0 1 0 0 0\n",
            "  0 0 0 0 0 0 0 0 0 0 0 0 0 0]\n",
            " [0 0 0 0 0 0 0 0 0 0 0 0 0 0 0 0 0 0 1 1 0 0 0 0 0 0 1 1 0 0 0 0 1 0 1 1\n",
            "  1 1 1 0 0 0 0 0 0 0 0 0 0 0]\n",
            " [0 0 0 0 0 0 0 0 0 0 0 1 1 0 0 0 0 0 0 0 0 0 0 0 0 0 1 1 0 0 0 0 0 1 1 1\n",
            "  1 1 1 0 0 0 0 0 0 0 0 0 0 0]\n",
            " [0 0 0 0 0 0 0 0 0 0 1 0 0 1 0 0 0 0 0 0 0 0 0 0 0 0 0 0 0 0 0 0 0 0 0 0\n",
            "  0 1 0 0 0 0 0 0 0 0 0 0 0 0]\n",
            " [0 0 0 0 0 0 0 0 0 0 1 0 1 0 0 0 0 0 0 0 0 0 0 0 0 0 0 0 0 0 0 0 0 0 0 0\n",
            "  0 0 0 0 0 0 0 0 0 0 0 0 0 0]\n",
            " [0 0 0 0 0 0 0 0 0 0 0 1 0 0 0 0 0 0 0 0 0 0 0 0 0 0 0 0 0 0 0 0 0 0 0 0\n",
            "  0 0 0 0 0 0 0 0 0 0 0 0 0 0]\n",
            " [0 0 0 0 0 0 0 0 0 0 0 0 0 0 0 0 0 0 0 0 0 0 0 0 0 0 0 0 0 0 0 0 0 0 0 0\n",
            "  0 0 0 0 0 0 0 0 0 0 0 0 0 0]\n",
            " [0 0 0 0 0 0 0 0 0 0 0 0 0 0 0 0 0 0 0 0 0 0 0 0 0 0 0 0 0 0 0 0 0 0 0 0\n",
            "  0 0 0 0 0 0 0 0 0 0 0 0 0 0]\n",
            " [0 0 0 0 0 0 0 0 0 0 0 0 0 0 0 0 0 0 0 0 0 0 0 0 0 0 0 0 0 0 0 0 0 0 0 0\n",
            "  0 0 0 0 0 0 0 0 0 0 0 0 0 0]\n",
            " [0 0 0 0 0 0 0 0 0 0 0 0 0 0 0 0 0 0 0 0 0 0 0 0 0 0 0 0 0 0 0 0 0 0 0 0\n",
            "  0 0 0 0 0 0 0 0 0 0 0 0 0 0]\n",
            " [0 0 0 0 0 0 0 0 0 0 0 0 0 0 0 0 0 0 0 0 0 0 0 0 0 0 0 0 0 0 0 0 0 0 0 0\n",
            "  0 0 0 0 0 0 0 0 0 0 0 0 0 0]\n",
            " [0 0 0 0 0 0 0 0 0 0 0 0 0 0 0 0 0 0 0 0 0 0 0 0 0 0 0 0 0 0 0 0 0 0 0 0\n",
            "  0 0 0 0 0 0 0 0 0 0 0 0 0 0]\n",
            " [0 0 0 0 0 0 0 0 0 0 0 0 0 0 0 0 0 0 0 0 0 0 0 0 0 0 0 0 0 0 0 0 0 0 0 0\n",
            "  0 0 0 0 0 0 0 0 0 0 0 0 0 0]\n",
            " [0 0 0 0 0 0 0 0 0 0 0 0 0 0 0 0 0 0 0 0 0 0 0 0 0 0 0 0 0 0 0 0 0 0 0 0\n",
            "  0 0 0 0 0 0 0 0 0 0 0 0 0 0]\n",
            " [0 0 0 1 1 0 0 0 0 0 0 0 0 0 0 0 0 0 0 0 0 0 0 0 0 0 0 0 0 0 0 0 1 1 1 0\n",
            "  0 0 0 0 0 0 0 0 0 0 0 0 0 0]\n",
            " [0 0 0 1 1 0 0 0 0 0 0 0 0 0 0 0 0 0 0 1 1 1 0 0 0 0 0 0 0 0 0 0 1 0 1 0\n",
            "  0 0 0 0 0 0 0 0 0 0 0 0 0 0]\n",
            " [0 0 0 0 0 0 0 0 0 1 1 1 0 0 0 0 0 0 0 0 0 0 0 0 0 0 0 0 0 0 0 1 0 1 1 0\n",
            "  0 0 1 0 1 0 0 0 0 0 0 0 0 0]\n",
            " [0 0 0 0 0 0 0 0 0 0 0 0 0 0 0 0 0 0 0 0 0 0 0 0 0 0 0 0 0 0 1 1 0 1 1 0\n",
            "  0 1 0 0 1 0 0 0 0 0 0 0 0 0]\n",
            " [0 0 0 0 0 0 0 1 0 0 0 0 0 1 0 0 0 0 0 0 0 0 0 0 0 0 0 0 0 0 0 1 0 0 0 0\n",
            "  0 1 0 0 1 1 0 0 0 0 0 0 0 0]\n",
            " [0 0 0 0 0 0 0 1 0 0 0 0 0 1 0 0 0 0 0 0 0 0 0 0 0 0 0 0 0 0 0 0 0 0 0 0\n",
            "  0 0 1 0 0 0 0 0 0 0 0 0 0 0]\n",
            " [0 0 0 0 0 0 0 1 0 0 0 0 0 1 0 0 0 0 0 0 0 0 0 0 0 0 0 0 0 0 0 0 0 0 0 0\n",
            "  0 0 0 0 0 0 0 0 0 0 0 0 0 0]\n",
            " [0 0 0 0 0 0 0 0 0 0 0 0 0 0 0 0 0 0 0 0 0 0 0 0 0 0 0 0 0 0 0 0 0 0 1 0\n",
            "  0 0 0 1 0 0 0 0 0 0 0 0 0 0]\n",
            " [0 0 0 0 0 0 0 0 0 1 1 1 0 0 0 0 0 0 0 0 0 0 0 0 0 0 0 0 0 0 0 0 0 0 0 0\n",
            "  1 0 0 0 1 0 0 0 0 0 0 0 0 0]\n",
            " [0 0 0 0 0 0 0 0 0 0 0 0 0 0 0 0 0 0 0 0 0 0 0 0 0 0 0 0 0 0 0 0 0 0 0 1\n",
            "  1 0 1 1 0 0 0 0 0 0 0 0 0 0]\n",
            " [0 0 0 0 0 0 0 0 0 0 0 0 0 0 0 0 0 0 0 0 0 0 0 0 0 0 0 0 0 0 0 0 0 0 0 1\n",
            "  1 0 1 0 0 0 0 0 0 0 0 1 1 0]\n",
            " [0 0 0 0 0 0 0 0 0 0 0 0 0 0 0 0 0 0 0 0 0 0 0 0 0 0 0 0 0 0 0 0 0 0 0 0\n",
            "  0 0 1 1 0 0 0 0 0 0 0 1 1 0]\n",
            " [0 0 0 0 0 0 0 0 0 0 0 0 0 0 0 0 0 0 0 0 0 0 0 0 0 0 0 0 0 0 0 0 0 0 0 0\n",
            "  0 1 1 0 0 1 1 0 0 0 0 0 0 0]\n",
            " [0 0 0 0 0 0 0 0 0 0 0 0 0 0 0 0 1 1 0 0 0 0 0 0 0 0 0 0 0 0 0 0 0 0 0 0\n",
            "  0 0 0 0 0 0 0 0 0 0 0 0 0 0]\n",
            " [0 0 0 0 0 0 0 0 0 0 0 0 0 0 0 0 1 1 0 0 0 0 0 0 0 0 0 0 0 0 0 0 0 0 0 0\n",
            "  0 0 0 0 0 1 0 0 0 0 0 0 0 0]\n",
            " [0 0 0 0 0 0 0 0 0 0 0 0 0 0 0 0 0 0 0 0 0 0 0 0 0 0 0 0 0 0 0 0 0 0 0 0\n",
            "  0 0 0 0 1 0 1 0 0 0 0 0 0 0]\n",
            " [0 0 0 0 0 0 0 0 0 0 0 0 0 0 0 0 0 0 0 0 0 0 0 0 0 0 0 0 0 0 0 0 0 0 0 0\n",
            "  0 0 0 1 0 0 1 1 0 0 0 0 0 0]\n",
            " [0 0 0 0 0 0 0 0 0 0 0 0 0 0 0 0 0 0 0 0 0 0 0 0 0 0 0 0 0 0 0 0 0 0 0 0\n",
            "  0 0 0 1 0 0 0 1 0 0 0 0 0 0]\n",
            " [0 0 0 0 0 0 0 0 0 0 0 0 0 0 0 0 0 0 0 0 0 0 0 0 0 0 0 0 0 0 0 0 0 0 0 0\n",
            "  0 0 0 0 1 1 1 0 0 0 0 0 0 0]\n",
            " [0 0 0 0 0 0 0 0 0 0 0 0 0 0 0 0 0 0 0 0 0 0 0 0 0 0 0 0 0 0 0 0 0 0 0 0\n",
            "  0 0 0 0 0 0 0 0 0 0 0 0 0 0]]\n"
          ]
        }
      ],
      "source": [
        "def iterate(Z):\n",
        "    N = (Z[0:-2,0:-2] + Z[0:-2,1:-1] + Z[0:-2,2:] +\n",
        "         Z[1:-1,0:-2]                + Z[1:-1,2:] +\n",
        "         Z[2:  ,0:-2] + Z[2:  ,1:-1] + Z[2:  ,2:])\n",
        "    birth = (N==3) & (Z[1:-1,1:-1]==0)\n",
        "    survive = ((N==2) | (N==3)) & (Z[1:-1,1:-1]==1)\n",
        "    Z[...] = 0\n",
        "    Z[1:-1,1:-1][birth | survive] = 1\n",
        "    return Z\n",
        "\n",
        "Z = np.random.randint(0,2,(50,50))\n",
        "for i in range(100): Z = iterate(Z)\n",
        "print(Z)"
      ]
    },
    {
      "cell_type": "markdown",
      "id": "69a892fa",
      "metadata": {
        "id": "69a892fa"
      },
      "source": [
        "#### 89. How to get the n largest values of an array (★★★)"
      ]
    },
    {
      "cell_type": "code",
      "execution_count": 98,
      "id": "21b2bd48",
      "metadata": {
        "id": "21b2bd48",
        "outputId": "31f9a08b-73f6-442e-98eb-2c7a54df1ba0",
        "colab": {
          "base_uri": "https://localhost:8080/"
        }
      },
      "outputs": [
        {
          "output_type": "stream",
          "name": "stdout",
          "text": [
            "[9995 9996 9997 9998 9999]\n",
            "[9997 9999 9998 9996 9995]\n"
          ]
        }
      ],
      "source": [
        "Z = np.arange(10000)\n",
        "np.random.shuffle(Z)\n",
        "n = 5\n",
        "print (Z[np.argsort(Z)[-n:]])\n",
        "print (Z[np.argpartition(-Z,n)[:n]])"
      ]
    },
    {
      "cell_type": "markdown",
      "id": "b55ccacc",
      "metadata": {
        "id": "b55ccacc"
      },
      "source": [
        "#### 90. Given an arbitrary number of vectors, build the cartesian product (every combinations of every item) (★★★)"
      ]
    },
    {
      "cell_type": "code",
      "execution_count": 99,
      "id": "4b645da4",
      "metadata": {
        "id": "4b645da4",
        "outputId": "d265cefa-2dbc-46a1-d206-0123647062ec",
        "colab": {
          "base_uri": "https://localhost:8080/"
        }
      },
      "outputs": [
        {
          "output_type": "stream",
          "name": "stdout",
          "text": [
            "[[1 4 6]\n",
            " [1 4 7]\n",
            " [1 5 6]\n",
            " [1 5 7]\n",
            " [2 4 6]\n",
            " [2 4 7]\n",
            " [2 5 6]\n",
            " [2 5 7]\n",
            " [3 4 6]\n",
            " [3 4 7]\n",
            " [3 5 6]\n",
            " [3 5 7]]\n"
          ]
        }
      ],
      "source": [
        "def cartesian(arrays):\n",
        "    arrays = [np.asarray(a) for a in arrays]\n",
        "    shape = (len(x) for x in arrays)\n",
        "\n",
        "    ix = np.indices(shape, dtype=int)\n",
        "    ix = ix.reshape(len(arrays), -1).T\n",
        "\n",
        "    for n, arr in enumerate(arrays):\n",
        "        ix[:, n] = arrays[n][ix[:, n]]\n",
        "\n",
        "    return ix\n",
        "\n",
        "print (cartesian(([1, 2, 3], [4, 5], [6, 7])))"
      ]
    },
    {
      "cell_type": "markdown",
      "id": "89187a23",
      "metadata": {
        "id": "89187a23"
      },
      "source": [
        "#### 91. How to create a record array from a regular array? (★★★)"
      ]
    },
    {
      "cell_type": "code",
      "execution_count": 100,
      "id": "da94c71a",
      "metadata": {
        "id": "da94c71a",
        "outputId": "adce2d6d-6b24-4f5a-c7d1-8ca22975f317",
        "colab": {
          "base_uri": "https://localhost:8080/"
        }
      },
      "outputs": [
        {
          "output_type": "stream",
          "name": "stdout",
          "text": [
            "[[1 4 6]\n",
            " [1 4 7]\n",
            " [1 5 6]\n",
            " [1 5 7]\n",
            " [2 4 6]\n",
            " [2 4 7]\n",
            " [2 5 6]\n",
            " [2 5 7]\n",
            " [3 4 6]\n",
            " [3 4 7]\n",
            " [3 5 6]\n",
            " [3 5 7]]\n"
          ]
        }
      ],
      "source": [
        "def cartesian(arrays):\n",
        "    arrays = [np.asarray(a) for a in arrays]\n",
        "    shape = (len(x) for x in arrays)\n",
        "\n",
        "    ix = np.indices(shape, dtype=int)\n",
        "    ix = ix.reshape(len(arrays), -1).T\n",
        "\n",
        "    for n, arr in enumerate(arrays):\n",
        "        ix[:, n] = arrays[n][ix[:, n]]\n",
        "\n",
        "    return ix\n",
        "\n",
        "print (cartesian(([1, 2, 3], [4, 5], [6, 7])))"
      ]
    },
    {
      "cell_type": "markdown",
      "id": "aa70d4ca",
      "metadata": {
        "id": "aa70d4ca"
      },
      "source": [
        "#### 92. Consider a large vector Z, compute Z to the power of 3 using 3 different methods (★★★)"
      ]
    },
    {
      "cell_type": "code",
      "execution_count": null,
      "id": "7cff1bf5",
      "metadata": {
        "id": "7cff1bf5"
      },
      "outputs": [],
      "source": [
        "x=np.random.rand(int(5e7))\n",
        "Z=np.zeros(len(x),[('a',x.dtype)])\n",
        "np.power(x,3,out=Z['a'])\n",
        "print(Z['a'])\n"
      ]
    },
    {
      "cell_type": "markdown",
      "id": "5f79dd00",
      "metadata": {
        "id": "5f79dd00"
      },
      "source": [
        "#### 93. Consider two arrays A and B of shape (8,3) and (2,2). How to find rows of A that contain elements of each row of B regardless of the order of the elements in B? (★★★)"
      ]
    },
    {
      "cell_type": "code",
      "execution_count": 3,
      "id": "20c105b2",
      "metadata": {
        "id": "20c105b2",
        "outputId": "683d63da-c4f1-45ca-acca-af819bbdb4d1",
        "colab": {
          "base_uri": "https://localhost:8080/"
        }
      },
      "outputs": [
        {
          "output_type": "stream",
          "name": "stdout",
          "text": [
            "[0 1 2 3 6]\n"
          ]
        }
      ],
      "source": [
        "import numpy as np\n",
        "\n",
        "A=np.random.randint(0,5,(8,3))\n",
        "B=np.random.randint(0,5,(2,2))\n",
        "C=(A[...,np.newaxis,np.newaxis]==B)\n",
        "rows=np.where(C.any((3,1)).all(1))[0]\n",
        "print(rows)"
      ]
    },
    {
      "cell_type": "markdown",
      "id": "a80570cd",
      "metadata": {
        "id": "a80570cd"
      },
      "source": [
        "#### 94. Considering a 10x3 matrix, extract rows with unequal values (e.g. [2,2,3]) (★★★)"
      ]
    },
    {
      "cell_type": "code",
      "execution_count": 2,
      "id": "84db8de1",
      "metadata": {
        "id": "84db8de1",
        "outputId": "62794767-d440-4a15-bb8b-e5d1bbf2baf9",
        "colab": {
          "base_uri": "https://localhost:8080/"
        }
      },
      "outputs": [
        {
          "output_type": "stream",
          "name": "stdout",
          "text": [
            "[[1 4 1]\n",
            " [4 2 0]\n",
            " [3 4 0]\n",
            " [4 4 3]\n",
            " [3 0 3]\n",
            " [0 1 0]\n",
            " [3 2 1]\n",
            " [0 0 1]\n",
            " [4 2 4]\n",
            " [1 3 2]]\n",
            "[]\n",
            "[[1 4 1]\n",
            " [4 2 0]\n",
            " [3 4 0]\n",
            " [4 4 3]\n",
            " [3 0 3]\n",
            " [0 1 0]\n",
            " [3 2 1]\n",
            " [0 0 1]\n",
            " [4 2 4]\n",
            " [1 3 2]]\n"
          ]
        }
      ],
      "source": [
        "import numpy as np\n",
        "A = np.random.randint(0,5,(10,3))\n",
        "print(A)\n",
        "U=A[np.all(A[:,1:]==A[:,:-1],axis=1)]\n",
        "print(U)\n",
        "U=A[A.max(axis=1)!=A.min(axis=1),:]\n",
        "print(U)"
      ]
    },
    {
      "cell_type": "markdown",
      "id": "ba154f43",
      "metadata": {
        "id": "ba154f43"
      },
      "source": [
        "#### 95. Convert a vector of ints into a matrix binary representation (★★★)"
      ]
    },
    {
      "cell_type": "code",
      "execution_count": 4,
      "id": "cfa96e1b",
      "metadata": {
        "id": "cfa96e1b",
        "outputId": "586e6a8e-5fb3-477b-cc83-527804c24384",
        "colab": {
          "base_uri": "https://localhost:8080/"
        }
      },
      "outputs": [
        {
          "output_type": "stream",
          "name": "stdout",
          "text": [
            "[[0 0 0 0 0 0 0 0]\n",
            " [0 0 0 0 0 0 0 1]\n",
            " [0 0 0 0 0 0 1 0]\n",
            " [0 0 0 0 0 0 1 1]\n",
            " [0 0 0 0 1 1 1 1]\n",
            " [0 0 0 1 0 0 0 0]\n",
            " [0 0 1 0 0 0 0 0]\n",
            " [0 1 0 0 0 0 0 0]\n",
            " [1 0 0 0 0 0 0 0]]\n",
            "[[0 0 0 0 0 0 0 0]\n",
            " [0 0 0 0 0 0 0 1]\n",
            " [0 0 0 0 0 0 1 0]\n",
            " [0 0 0 0 0 0 1 1]\n",
            " [0 0 0 0 1 1 1 1]\n",
            " [0 0 0 1 0 0 0 0]\n",
            " [0 0 1 0 0 0 0 0]\n",
            " [0 1 0 0 0 0 0 0]\n",
            " [1 0 0 0 0 0 0 0]]\n"
          ]
        }
      ],
      "source": [
        "\n",
        "I=np.array([0,1,2,3,15,16,32,64,128],dtype=np.uint8)\n",
        "print(np.unpackbits(I[:,np.newaxis],axis=1))\n",
        "I=np.array([0, 1, 2, 3, 15, 16, 32, 64, 128],dtype=np.uint8)\n",
        "print(np.unpackbits(I[:,np.newaxis],axis=1))"
      ]
    },
    {
      "cell_type": "markdown",
      "id": "420e2343",
      "metadata": {
        "id": "420e2343"
      },
      "source": [
        "#### 96. Given a two dimensional array, how to extract unique rows? (★★★)"
      ]
    },
    {
      "cell_type": "code",
      "execution_count": 5,
      "id": "4680dfd0",
      "metadata": {
        "id": "4680dfd0",
        "outputId": "1c2cc801-be7a-40c2-8933-b3426fcae27f",
        "colab": {
          "base_uri": "https://localhost:8080/"
        }
      },
      "outputs": [
        {
          "output_type": "stream",
          "name": "stdout",
          "text": [
            "[[0 0 3 0 3 3]\n",
            " [0 3 1 2 2 0]\n",
            " [1 2 1 3 2 1]\n",
            " [1 2 3 0 2 2]\n",
            " [2 0 0 3 0 1]\n",
            " [2 0 2 0 3 2]\n",
            " [2 1 1 1 0 3]\n",
            " [2 1 1 3 2 1]\n",
            " [3 0 0 3 0 1]\n",
            " [3 0 1 1 1 3]\n",
            " [3 0 3 1 3 3]\n",
            " [3 2 3 2 1 0]]\n"
          ]
        }
      ],
      "source": [
        "A=np.random.randint(0,4,(12,6))\n",
        "T=np.ascontiguousarray(A).view(np.dtype((np.void,A.dtype.itemsize*A.shape[1])))\n",
        "_,idx=np.unique(T,return_index=True)\n",
        "uZ=A[idx]\n",
        "print(uZ)"
      ]
    },
    {
      "cell_type": "markdown",
      "id": "89fef2f3",
      "metadata": {
        "id": "89fef2f3"
      },
      "source": [
        "#### 97. Considering 2 vectors A & B, write the einsum equivalent of inner, outer, sum, and mul function (★★★)"
      ]
    },
    {
      "cell_type": "code",
      "execution_count": 6,
      "id": "bb9c14b2",
      "metadata": {
        "id": "bb9c14b2",
        "outputId": "1a8dc28a-5a9c-4fae-99f2-cfd4ff56b755",
        "colab": {
          "base_uri": "https://localhost:8080/"
        }
      },
      "outputs": [
        {
          "output_type": "execute_result",
          "data": {
            "text/plain": [
              "array([[6.06076558e-01, 1.39243021e-01, 5.17743805e-02, 5.10448840e-01,\n",
              "        4.53239890e-01, 4.34843372e-02, 2.78956355e-01, 5.67111983e-01,\n",
              "        1.36199641e-01, 5.51342915e-01, 5.36906599e-01, 5.16820550e-01,\n",
              "        1.06962097e-02, 3.04938132e-01, 2.91113484e-01, 4.78111340e-01,\n",
              "        5.55911552e-03, 1.50545306e-01, 6.66278802e-02, 1.65328660e-01],\n",
              "       [8.55567001e-02, 1.96562187e-02, 7.30872212e-03, 7.20574286e-02,\n",
              "        6.39815364e-02, 6.13845949e-03, 3.93788290e-02, 8.00562721e-02,\n",
              "        1.92266005e-02, 7.78302341e-02, 7.57923339e-02, 7.29568900e-02,\n",
              "        1.50992872e-03, 4.30465426e-02, 4.10949883e-02, 6.74925107e-02,\n",
              "        7.84751651e-04, 2.12517040e-02, 9.40551402e-03, 2.33385938e-02],\n",
              "       [1.30527094e+00, 2.99879390e-01, 1.11503396e-01, 1.09932323e+00,\n",
              "        9.76115724e-01, 9.36496240e-02, 6.00771666e-01, 1.22135526e+00,\n",
              "        2.93325045e-01, 1.18739436e+00, 1.15630373e+00, 1.11304560e+00,\n",
              "        2.30357890e-02, 6.56727072e-01, 6.26953752e-01, 1.02967988e+00,\n",
              "        1.19723356e-02, 3.24220448e-01, 1.43492492e-01, 3.56058476e-01],\n",
              "       [2.26613946e-01, 5.20634068e-02, 1.93586050e-02, 1.90858439e-01,\n",
              "        1.69467831e-01, 1.62589315e-02, 1.04302665e-01, 2.12044968e-01,\n",
              "        5.09254774e-02, 2.06148863e-01, 2.00751079e-01, 1.93240842e-01,\n",
              "        3.99934670e-03, 1.14017334e-01, 1.08848255e-01, 1.78767346e-01,\n",
              "        2.07857091e-03, 5.62893670e-02, 2.49123756e-02, 6.18169100e-02],\n",
              "       [2.04865042e+00, 4.70667062e-01, 1.75006944e-01, 1.72541112e+00,\n",
              "        1.53203433e+00, 1.46985071e-01, 9.42923868e-01, 1.91694298e+00,\n",
              "        4.60379878e-01, 1.86364062e+00, 1.81484321e+00, 1.74694867e+00,\n",
              "        3.61551592e-02, 1.03074706e+00, 9.84017207e-01, 1.61610441e+00,\n",
              "        1.87908346e-02, 5.08870868e-01, 2.25214509e-01, 5.58841328e-01],\n",
              "       [1.18795105e+00, 2.72925739e-01, 1.01481288e-01, 1.00051425e+00,\n",
              "        8.88380843e-01, 8.52322424e-02, 5.46773324e-01, 1.11157785e+00,\n",
              "        2.66960509e-01, 1.08066941e+00, 1.05237325e+00, 1.01300324e+00,\n",
              "        2.09652945e-02, 5.97699367e-01, 5.70602121e-01, 9.37130568e-01,\n",
              "        1.08962425e-02, 2.95078983e-01, 1.30595152e-01, 3.24055357e-01],\n",
              "       [1.15288228e+00, 2.64868867e-01, 9.84855214e-02, 9.70978690e-01,\n",
              "        8.62155499e-01, 8.27161538e-02, 5.30632366e-01, 1.07876364e+00,\n",
              "        2.59079733e-01, 1.04876763e+00, 1.02130679e+00, 9.83098992e-01,\n",
              "        2.03463910e-02, 5.80055052e-01, 5.53757727e-01, 9.09466114e-01,\n",
              "        1.05745812e-02, 2.86368138e-01, 1.26739933e-01, 3.14489118e-01],\n",
              "       [2.83984840e+00, 6.52440792e-01, 2.42595411e-01, 2.39177263e+00,\n",
              "        2.12371285e+00, 2.03751364e-01, 1.30708530e+00, 2.65727495e+00,\n",
              "        6.38180651e-01, 2.58338699e+00, 2.51574380e+00, 2.42162808e+00,\n",
              "        5.01184439e-02, 1.42882620e+00, 1.36404907e+00, 2.24025118e+00,\n",
              "        2.60479392e-02, 7.05399079e-01, 3.12193363e-01, 7.74668356e-01],\n",
              "       [1.22819076e+00, 2.82170609e-01, 1.04918784e-01, 1.03440488e+00,\n",
              "        9.18473149e-01, 8.81193315e-02, 5.65294289e-01, 1.14923055e+00,\n",
              "        2.76003317e-01, 1.11727514e+00, 1.08802051e+00, 1.04731690e+00,\n",
              "        2.16754562e-02, 6.17945359e-01, 5.89930243e-01, 9.68874183e-01,\n",
              "        1.12653331e-02, 3.05074254e-01, 1.35018828e-01, 3.35032150e-01],\n",
              "       [2.48843389e+00, 5.71705087e-01, 2.12575658e-01, 2.09580485e+00,\n",
              "        1.86091590e+00, 1.78538333e-01, 1.14534119e+00, 2.32845283e+00,\n",
              "        5.59209555e-01, 2.26370807e+00, 2.20443533e+00, 2.12196587e+00,\n",
              "        4.39165816e-02, 1.25201738e+00, 1.19525603e+00, 1.96303329e+00,\n",
              "        2.28246601e-02, 6.18110098e-01, 2.73561273e-01, 6.78807710e-01],\n",
              "       [3.10428409e+00, 7.13193554e-01, 2.65184957e-01, 2.61448524e+00,\n",
              "        2.32146478e+00, 2.22723903e-01, 1.42879602e+00, 2.90471011e+00,\n",
              "        6.97605564e-01, 2.82394199e+00, 2.75000013e+00, 2.64712072e+00,\n",
              "        5.47852794e-02, 1.56187297e+00, 1.49106404e+00, 2.44885470e+00,\n",
              "        2.84734225e-02, 7.71083112e-01, 3.41263601e-01, 8.46802476e-01],\n",
              "       [1.37711033e+00, 3.16384127e-01, 1.17640310e-01, 1.15982769e+00,\n",
              "        1.02983910e+00, 9.88039041e-02, 6.33836886e-01, 1.28857611e+00,\n",
              "        3.09469044e-01, 1.25274607e+00, 1.21994427e+00, 1.17430531e+00,\n",
              "        2.43036308e-02, 6.92871961e-01, 6.61459979e-01, 1.08635132e+00,\n",
              "        1.26312680e-02, 3.42064866e-01, 1.51390020e-01, 3.75655193e-01],\n",
              "       [3.45701388e+00, 7.94231437e-01, 2.95317068e-01, 2.91156076e+00,\n",
              "        2.58524533e+00, 2.48031302e-01, 1.59114550e+00, 3.23476295e+00,\n",
              "        7.76872234e-01, 3.14481741e+00, 3.06247378e+00, 2.94790451e+00,\n",
              "        6.10103540e-02, 1.73934356e+00, 1.66048883e+00, 2.72711016e+00,\n",
              "        3.17087656e-02, 8.58698800e-01, 3.80040283e-01, 9.43021910e-01],\n",
              "       [2.25590773e+00, 5.18283380e-01, 1.92711999e-01, 1.89996704e+00,\n",
              "        1.68702676e+00, 1.61855216e-01, 1.03831734e+00, 2.11087574e+00,\n",
              "        5.06955464e-01, 2.05218091e+00, 1.99844678e+00, 1.92368350e+00,\n",
              "        3.98128946e-02, 1.13502540e+00, 1.08356799e+00, 1.77960202e+00,\n",
              "        2.06918606e-02, 5.60352178e-01, 2.47998950e-01, 6.15378037e-01],\n",
              "       [2.89203459e+00, 6.64430305e-01, 2.47053441e-01, 2.43572480e+00,\n",
              "        2.16273905e+00, 2.07495581e-01, 1.33110482e+00, 2.70610610e+00,\n",
              "        6.49908114e-01, 2.63086034e+00, 2.56197412e+00, 2.46612889e+00,\n",
              "        5.10394405e-02, 1.45508289e+00, 1.38911538e+00, 2.28141893e+00,\n",
              "        2.65266065e-02, 7.18361775e-01, 3.17930353e-01, 7.88903972e-01],\n",
              "       [1.77544574e+00, 4.07899669e-01, 1.51668303e-01, 1.49531310e+00,\n",
              "        1.32772472e+00, 1.27383381e-01, 8.17177077e-01, 1.66130258e+00,\n",
              "        3.98984367e-01, 1.61510854e+00, 1.57281868e+00, 1.51397844e+00,\n",
              "        3.13335661e-02, 8.93288314e-01, 8.52790275e-01, 1.40058336e+00,\n",
              "        1.62849195e-02, 4.41008678e-01, 1.95180269e-01, 4.84315159e-01],\n",
              "       [1.57797790e+00, 3.62532433e-01, 1.34799519e-01, 1.32900205e+00,\n",
              "        1.18005311e+00, 1.13215603e-01, 7.26289371e-01, 1.47652993e+00,\n",
              "        3.54608705e-01, 1.43547366e+00, 1.39788734e+00, 1.34559140e+00,\n",
              "        2.78485981e-02, 7.93935399e-01, 7.57941614e-01, 1.24480830e+00,\n",
              "        1.44736854e-02, 3.91959007e-01, 1.73472016e-01, 4.30448874e-01],\n",
              "       [6.78751604e-03, 1.55939745e-03, 5.79826812e-04, 5.71657102e-03,\n",
              "        5.07588189e-03, 4.86985732e-04, 3.12406198e-03, 6.35114760e-03,\n",
              "        1.52531431e-03, 6.17454813e-03, 6.01287429e-03, 5.78792848e-03,\n",
              "        1.19787994e-04, 3.41503468e-03, 3.26021097e-03, 5.35441991e-03,\n",
              "        6.22571279e-05, 1.68597294e-03, 7.46172739e-04, 1.85153330e-03],\n",
              "       [7.55008140e-01, 1.73459298e-01, 6.44969323e-02, 6.35881762e-01,\n",
              "        5.64614820e-01, 5.41697714e-02, 3.47504479e-01, 7.06468775e-01,\n",
              "        1.69668066e-01, 6.86824764e-01, 6.68841002e-01, 6.43819196e-01,\n",
              "        1.33245962e-02, 3.79870776e-01, 3.62648988e-01, 5.95597947e-01,\n",
              "        6.92516055e-03, 1.87538901e-01, 8.30003920e-02, 2.05954978e-01],\n",
              "       [3.48014312e+00, 7.99545263e-01, 2.97292895e-01, 2.93104064e+00,\n",
              "        2.60254198e+00, 2.49690761e-01, 1.60179110e+00, 3.25640522e+00,\n",
              "        7.82069918e-01, 3.16585789e+00, 3.08296334e+00, 2.96762754e+00,\n",
              "        6.14185454e-02, 1.75098068e+00, 1.67159838e+00, 2.74535596e+00,\n",
              "        3.19209139e-02, 8.64443946e-01, 3.82582952e-01, 9.49331222e-01]])"
            ]
          },
          "metadata": {},
          "execution_count": 6
        }
      ],
      "source": [
        "X=np.random.uniform(0,2,20)\n",
        "Y=np.random.uniform(0,2,20)\n",
        "np.einsum('i->',X)\n",
        "np.einsum('i,i->i',X,Y)\n",
        "np.einsum('i,i',X,Y)\n",
        "np.einsum('i,j->ij',X,Y)"
      ]
    },
    {
      "cell_type": "markdown",
      "id": "7ad5cc5f",
      "metadata": {
        "id": "7ad5cc5f"
      },
      "source": [
        "#### 98. Considering a path described by two vectors (X,Y), how to sample it using equidistant samples (★★★)?"
      ]
    },
    {
      "cell_type": "code",
      "execution_count": 7,
      "id": "0899d1d5",
      "metadata": {
        "id": "0899d1d5"
      },
      "outputs": [],
      "source": [
        "phi=np.arange(0,10*np.pi,0.1)\n",
        "a=1\n",
        "x=a*phi*np.cos(phi)\n",
        "y=a*phi*np.sin(phi)\n",
        "dr=(np.diff(x)**2+np.diff(y)**2)**.5\n",
        "r=np.zeros_like(x)\n",
        "r[1:]=np.cumsum(dr)\n",
        "r_int=np.linspace(0,r.max(),200)\n",
        "x_int=np.interp(r_int,r,x)\n",
        "y_int=np.interp(r_int,r,y)"
      ]
    },
    {
      "cell_type": "markdown",
      "id": "2b69272e",
      "metadata": {
        "id": "2b69272e"
      },
      "source": [
        "#### 99. Given an integer n and a 2D array X, select from X the rows which can be interpreted as draws from a multinomial distribution with n degrees, i.e., the rows which only contain integers and which sum to n. (★★★)"
      ]
    },
    {
      "cell_type": "code",
      "execution_count": 8,
      "id": "55c8b034",
      "metadata": {
        "id": "55c8b034",
        "outputId": "d52e5899-4762-444e-d292-f8d85d413297",
        "colab": {
          "base_uri": "https://localhost:8080/"
        }
      },
      "outputs": [
        {
          "output_type": "stream",
          "name": "stdout",
          "text": [
            "[[2. 0. 1. 1.]]\n"
          ]
        }
      ],
      "source": [
        "X=np.asarray([[1.0, 0.0, 3.0, 8.0],\n",
        "[2.0, 0.0, 1.0, 1.0],\n",
        "[1.5,2.5,1.0,0.0]])\n",
        "n=4\n",
        "M=np.logical_and.reduce(np.mod(X,1)==0,axis=-1)\n",
        "M&=(X.sum(axis=-1)==n)\n",
        "print(X[M])"
      ]
    },
    {
      "cell_type": "markdown",
      "id": "59ab5516",
      "metadata": {
        "id": "59ab5516"
      },
      "source": [
        "#### 100. Compute bootstrapped 95% confidence intervals for the mean of a 1D array X (i.e., resample the elements of an array with replacement N times, compute the mean of each sample, and then compute percentiles over the means). (★★★)"
      ]
    },
    {
      "cell_type": "code",
      "execution_count": 9,
      "id": "450877d8",
      "metadata": {
        "id": "450877d8",
        "outputId": "8cadcae5-5c4d-4b46-8bac-dedf9fb28ce0",
        "colab": {
          "base_uri": "https://localhost:8080/"
        }
      },
      "outputs": [
        {
          "output_type": "stream",
          "name": "stdout",
          "text": [
            "[-0.11779332  0.25754188]\n"
          ]
        }
      ],
      "source": [
        "import numpy as np\n",
        "import scipy.stats as st\n",
        "np.random.seed(10)\n",
        "X=np.random.randn(100)\n",
        "N=1000\n",
        "idx=np.random.randint(0,X.size,(N,X.size))\n",
        "means=X[idx].mean(axis=1)\n",
        "confint=np.percentile(means,[2.5,97.5])\n",
        "print(confint)"
      ]
    }
  ],
  "metadata": {
    "colab": {
      "provenance": [],
      "include_colab_link": true
    },
    "language_info": {
      "name": "python"
    },
    "kernelspec": {
      "name": "python3",
      "display_name": "Python 3"
    }
  },
  "nbformat": 4,
  "nbformat_minor": 5
}